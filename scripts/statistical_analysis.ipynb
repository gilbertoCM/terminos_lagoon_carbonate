{
 "cells": [
  {
   "cell_type": "markdown",
   "id": "e89156d0",
   "metadata": {},
   "source": [
    " # Statistical analysis (Terminos lagoon 2024)"
   ]
  },
  {
   "cell_type": "code",
   "execution_count": 1,
   "id": "b5d11b6e-ba2b-45ab-be31-fb1e8eec9918",
   "metadata": {},
   "outputs": [],
   "source": [
    "# Import packages\n",
    "import pandas as pd\n",
    "import PyCO2SYS as pyco2\n",
    "import scipy.stats as stats\n",
    "# import scikit_posthocs as sp\n",
    "from scipy.stats import kruskal\n",
    "from tabulate import tabulate"
   ]
  },
  {
   "cell_type": "code",
   "execution_count": 2,
   "id": "a843741c",
   "metadata": {},
   "outputs": [],
   "source": [
    "# Function to read in csv file\n",
    "def read_csv(file):\n",
    "    \"\"\"\n",
    "    Read in csv file and return pandas dataframe\n",
    "    \"\"\"\n",
    "    df = pd.read_csv(file, sep=\",\", header=0,  decimal=\".\", encoding='utf-8')\n",
    "    return df"
   ]
  },
  {
   "cell_type": "code",
   "execution_count": 3,
   "id": "4ef7f9b0",
   "metadata": {},
   "outputs": [],
   "source": [
    "# define file path \n",
    "terminos_ta_dic_data_path = \"../data/terminoslagoon_TA_DIC_2024_RawData.csv\"\n",
    "\n",
    "# Read in data\n",
    "terminos_ta_dic_data = read_csv(terminos_ta_dic_data_path)\n",
    "\n",
    "# Copy data to new dataframe\n",
    "terminos_ta_dic = terminos_ta_dic_data.copy()"
   ]
  },
  {
   "cell_type": "code",
   "execution_count": 4,
   "id": "489ad7ef",
   "metadata": {},
   "outputs": [],
   "source": [
    "# Calculate TA - DIC (TA-DIC)  \n",
    "terminos_ta_dic[\"TA-DIC\"] = terminos_ta_dic[\"TA_micromol_kg\"] - terminos_ta_dic[\"DIC_micromol_kg\"]"
   ]
  },
  {
   "cell_type": "markdown",
   "id": "2debc746",
   "metadata": {},
   "source": [
    "### Calculate apparent oxygen utilization (AOU) and oxygen saturation (OS)"
   ]
  },
  {
   "cell_type": "code",
   "execution_count": 5,
   "id": "fa98aa38",
   "metadata": {},
   "outputs": [],
   "source": [
    "# Import function to convert oxygen concentration from mg/L to micromol/kg and calculate AOU\n",
    "from convert_oxygen_concentration_AOU import convert_oxygen_concentration\n",
    "\n",
    "# Import function to calculate AOU\n",
    "from convert_oxygen_concentration_AOU import calculate_aou\n",
    "\n",
    "# Convert DO from mg/L to micromol/kg\n",
    "terminos_ta_dic[\"DO_micromol_kg\"] = convert_oxygen_concentration(terminos_ta_dic[\"DO_mg_L\"], \n",
    "                                                                terminos_ta_dic[\"Sal_psu\"], terminos_ta_dic[\"Temp_C\"], pressure=0) \n",
    "# Calculate Apparent Oxygen Utilization (AOU)\n",
    "terminos_ta_dic[\"oxygen_utilization_micromol_kg\"] = calculate_aou(terminos_ta_dic[\"Sal_psu\"], terminos_ta_dic[\"Temp_C\"],  \n",
    "                                                                  0.0, terminos_ta_dic[\"DO_micromol_kg\"], terminos_ta_dic[\"latitude\"], \n",
    "                                                                  terminos_ta_dic[\"latitude\"] )\n"
   ]
  },
  {
   "attachments": {},
   "cell_type": "markdown",
   "id": "94856b7e-2989-4a3f-b68e-5f73ea4b926f",
   "metadata": {},
   "source": [
    "## PyCO2SYS configuration from estuarine waters (Humphreys et al. 2022)"
   ]
  },
  {
   "cell_type": "code",
   "execution_count": 6,
   "id": "81dbabc6-7cdd-4b2b-ad77-2b95d92dbf2f",
   "metadata": {},
   "outputs": [],
   "source": [
    "# Copy data to new dataframe\n",
    "terminos_inorganic_carbon = terminos_ta_dic.copy()\n",
    "\n",
    "# Create dictionary with data configuration for PyCO2SYS. \n",
    "# For more information on the parameters see Humphreys et al (2022)\n",
    "my_co2sys_params_dic_ta_config = {\n",
    "    # DIC measured in the lab in μmol/kg-sw\n",
    "    \"par1\": terminos_inorganic_carbon[\"DIC_micromol_kg\"],\n",
    "    # TA measured in the lab, Total scale\n",
    "    \"par2\": terminos_inorganic_carbon[\"TA_micromol_kg\"],\n",
    "    \"par1_type\": 2,         # tell PyCO2SYS: \"par2 is a DIC value\"\n",
    "    \"par2_type\": 1,         # tell PyCO2SYS: \"par1 is a TA value\"\n",
    "    # Fields conditions\n",
    "    \"salinity\": terminos_inorganic_carbon[\"Sal_psu\"],  # in-situ salinity in PSU\n",
    "    # in-situ temperature (output conditions) in °C\n",
    "    \"temperature_out\": terminos_inorganic_carbon[\"Temp_C\"],\n",
    "    \"pressure_out\": 0.0,\n",
    "    # Settings\n",
    "    \"opt_pH_scale\": 1,     # Total pH (Wolf-Gladrow et al. 2007)\n",
    "    \"opt_k_carbonic\": 15,     # 0 < T < 50 °C, 1 < S < 50, Seawater scale, real seawater (Millero F.J. 2010)\n",
    "    \"temperature\": 25      # lab temperature (input conditions) in °C\n",
    "}"
   ]
  },
  {
   "attachments": {},
   "cell_type": "markdown",
   "id": "f2c32de0-22da-4e9d-b3a7-1aefbaf95f69",
   "metadata": {},
   "source": [
    "### Run PyCO2SYS"
   ]
  },
  {
   "cell_type": "code",
   "execution_count": 7,
   "id": "90e98747-6a36-4eb9-9b97-7697385d58e3",
   "metadata": {},
   "outputs": [],
   "source": [
    "# Run PyCO2SYS to calculate the carbonate system parameters\n",
    "terminos_inorganic_carbon_results= pyco2.sys(**my_co2sys_params_dic_ta_config)"
   ]
  },
  {
   "attachments": {},
   "cell_type": "markdown",
   "id": "7fd41e56",
   "metadata": {},
   "source": [
    "### Read the interes variables from PYCO2sys "
   ]
  },
  {
   "cell_type": "code",
   "execution_count": 8,
   "id": "5d2720a9",
   "metadata": {},
   "outputs": [],
   "source": [
    "# Select variables of interest from the PyCO2SYS output and create a DataFrame\n",
    "pyco2_interest_variables = pd.DataFrame({\n",
    "       \"pH\": terminos_inorganic_carbon_results[\"pH\"],\n",
    "       \"saturation_aragonite\": terminos_inorganic_carbon_results[\"saturation_aragonite\"],\n",
    "       \"pCO2_atm\": terminos_inorganic_carbon_results[\"pCO2_out\"],\n",
    "       \"k_aragonite\": terminos_inorganic_carbon_results[\"k_aragonite\"],\n",
    "       \"total_calcium\": terminos_inorganic_carbon_results[\"total_calcium\"],\n",
    "       \"carbonate\": terminos_inorganic_carbon_results[\"carbonate\"]\n",
    "       \n",
    "})\n",
    "\n",
    "# Concatenate PyCO2SYS output with the original dataframe\n",
    "CarbonateTL = pd.concat([terminos_ta_dic, pyco2_interest_variables], axis=1)"
   ]
  },
  {
   "attachments": {},
   "cell_type": "markdown",
   "id": "b16f0dce",
   "metadata": {},
   "source": [
    "### Select Candelaria and Palizada results"
   ]
  },
  {
   "cell_type": "code",
   "execution_count": 9,
   "id": "1cd24ec8",
   "metadata": {},
   "outputs": [],
   "source": [
    "CandelariaResult = CarbonateTL.loc[CarbonateTL[\"Estuary\"] == \"Candelaria\"]\n",
    "                     \n",
    "PalizadaResult = CarbonateTL.loc[CarbonateTL[\"Estuary\"] == \"Palizada\"]"
   ]
  },
  {
   "cell_type": "markdown",
   "id": "85d17f20",
   "metadata": {},
   "source": [
    "## Create statistical functions"
   ]
  },
  {
   "cell_type": "code",
   "execution_count": 10,
   "id": "57259f96",
   "metadata": {},
   "outputs": [],
   "source": [
    "# function to evaluate normality of variables, using the Shapiro-Wilk test\n",
    "import scipy.stats as stats\n",
    "from tabulate import tabulate\n",
    "\n",
    "def evaluate_normality(variables):\n",
    "    results = []\n",
    "    \n",
    "    for var_name, var_values in variables.items():\n",
    "        stat, p_value = stats.shapiro(var_values)\n",
    "        is_normal = p_value > 0.05\n",
    "        \n",
    "        results.append([var_name, stat, p_value, is_normal])\n",
    "    \n",
    "    print(\"Normality test results:\")\n",
    "    print(tabulate(results, headers=[\"Variable\", \"Statistic\", \"P-value\", \"Is Normal\"], tablefmt=\"pretty\"))\n",
    "    \n",
    "    return "
   ]
  },
  {
   "cell_type": "code",
   "execution_count": 11,
   "id": "a7158045",
   "metadata": {},
   "outputs": [],
   "source": [
    "# Function to evaluate Mann-Whitney U test for two groups\n",
    "from scipy.stats import mannwhitneyu\n",
    "\n",
    "def evaluate_mannwhitney(data, variables, condition, group1, group2):\n",
    "    results = []\n",
    "    \n",
    "    for var_name in variables:\n",
    "        x = data[data[condition] == group1][var_name]\n",
    "        y = data[data[condition] == group2][var_name]\n",
    "    \n",
    "        stat, p_value = mannwhitneyu(x, y)\n",
    "        \n",
    "        results.append([var_name, stat, p_value])\n",
    "    \n",
    "    print(f\"Mann-Whitney U test for: {condition}, between {group1} and {group2}\")\n",
    "    print(tabulate(results, headers=[\"Variable\", \"Statistic\", \"P-value\"], tablefmt=\"pretty\"))\n",
    "    \n",
    "    return \n"
   ]
  },
  {
   "cell_type": "code",
   "execution_count": 12,
   "id": "4e543963",
   "metadata": {},
   "outputs": [],
   "source": [
    "# Function to evaluate Kruskal-Wallis  and post hoc Dunn's test for three groups\n",
    "# p<0.05 test is significant\n",
    "\n",
    "from scipy.stats import kruskal\n",
    "import scikit_posthocs as sp\n",
    "\n",
    "def evaluate_kruskal_dunns(data, variables, condition, group1, group2, group3):\n",
    "    results = []\n",
    "    \n",
    "    for var_name in variables:\n",
    "        x = data[data[condition] == group1][var_name]\n",
    "        y = data[data[condition] == group2][var_name]\n",
    "        z = data[data[condition] == group3][var_name]\n",
    "    \n",
    "        # Kruskal-Wallis H-test\n",
    "        stat, p_value = kruskal(x, y, z)\n",
    "        \n",
    "        # Post hoc Dunn's test             \n",
    "        p_value_dunn_test = sp.posthoc_dunn([x, y, z], p_adjust=\"holm\")\n",
    "        \n",
    "        p_value_dunn_test.columns = [group1, group2, group3]\n",
    "        p_value_dunn_test.index = [group1, group2, group3]\n",
    "\n",
    "                \n",
    "        results.append([var_name, stat, p_value, p_value_dunn_test])\n",
    "   \n",
    "\n",
    "    print(f\"Krustal-: {condition}, between {group1} and {group2}\")\n",
    "    print(tabulate(results, headers=[\"Variable\", \"Statistic\", \"P-value\", \"Post hoc Dunn's test\"], tablefmt=\"pretty\"))\n",
    "    \n",
    "        \n",
    "    return \n"
   ]
  },
  {
   "cell_type": "markdown",
   "id": "fb13bc62",
   "metadata": {},
   "source": [
    "### Evalute measured variables: Salinity, TA and DIC "
   ]
  },
  {
   "cell_type": "code",
   "execution_count": 13,
   "id": "947a431b",
   "metadata": {},
   "outputs": [],
   "source": [
    "measured_variables_dict = {\"Sal_psu\": CarbonateTL[\"Sal_psu\"],\n",
    "                           \"TA_micromol_kg\": CarbonateTL[\"TA_micromol_kg\"],\n",
    "                           \"DIC_micromol_kg\": CarbonateTL[\"DIC_micromol_kg\"],\n",
    "                           \"oxygen_utilization_micromol_kg\": CarbonateTL[\"oxygen_utilization_micromol_kg\"]\n",
    "                           }  "
   ]
  },
  {
   "cell_type": "code",
   "execution_count": 14,
   "id": "8b5272fc",
   "metadata": {},
   "outputs": [
    {
     "name": "stdout",
     "output_type": "stream",
     "text": [
      "Normality test results:\n",
      "+--------------------------------+--------------------+------------------------+-----------+\n",
      "|            Variable            |     Statistic      |        P-value         | Is Normal |\n",
      "+--------------------------------+--------------------+------------------------+-----------+\n",
      "|            Sal_psu             | 0.8885177323311573 |  3.41467921397059e-07  |   False   |\n",
      "|         TA_micromol_kg         | 0.8611283026854756 | 2.462104840391832e-08  |   False   |\n",
      "|        DIC_micromol_kg         | 0.8662748404427989 |  3.93332733607375e-08  |   False   |\n",
      "| oxygen_utilization_micromol_kg | 0.869564601115901  | 5.3374299510246055e-08 |   False   |\n",
      "+--------------------------------+--------------------+------------------------+-----------+\n"
     ]
    }
   ],
   "source": [
    "# Evaluate normality of measured variables\n",
    "evaluate_normality(measured_variables_dict)"
   ]
  },
  {
   "cell_type": "code",
   "execution_count": 15,
   "id": "fdb91b16",
   "metadata": {},
   "outputs": [
    {
     "name": "stdout",
     "output_type": "stream",
     "text": [
      "Mann-Whitney U test for: Estuary, between Candelaria and Palizada\n",
      "+--------------------------------+-----------+------------------------+\n",
      "|            Variable            | Statistic |        P-value         |\n",
      "+--------------------------------+-----------+------------------------+\n",
      "|            Sal_psu             |  1867.0   | 0.00014918883114817743 |\n",
      "|         TA_micromol_kg         |  1280.5   |   0.8987921334386064   |\n",
      "|        DIC_micromol_kg         |  1073.5   |  0.13031309768289984   |\n",
      "| oxygen_utilization_micromol_kg |  1097.0   |  0.17524631410182823   |\n",
      "+--------------------------------+-----------+------------------------+\n"
     ]
    }
   ],
   "source": [
    "# Evaluate Mann-Whitney U test for Transects\n",
    "evaluate_mannwhitney(CarbonateTL, measured_variables_dict, condition=\"Estuary\", group1=\"Candelaria\", group2=\"Palizada\")"
   ]
  },
  {
   "cell_type": "code",
   "execution_count": 16,
   "id": "05a951aa",
   "metadata": {},
   "outputs": [
    {
     "name": "stdout",
     "output_type": "stream",
     "text": [
      "Mann-Whitney U test for: Season, between Dry and Rainy\n",
      "+--------------------------------+-----------+------------------------+\n",
      "|            Variable            | Statistic |        P-value         |\n",
      "+--------------------------------+-----------+------------------------+\n",
      "|            Sal_psu             |  1549.0   | 0.0033575510174735233  |\n",
      "|         TA_micromol_kg         |  2138.5   | 8.706807858211458e-13  |\n",
      "|        DIC_micromol_kg         |  1804.5   | 1.931836678910544e-06  |\n",
      "| oxygen_utilization_micromol_kg |   487.0   | 3.2141094965536483e-06 |\n",
      "+--------------------------------+-----------+------------------------+\n"
     ]
    }
   ],
   "source": [
    "# Evaluate Mann-Whitney U test for Seasons (Dry and Rainy)\n",
    "evaluate_mannwhitney(CarbonateTL, measured_variables_dict, condition=\"Season\", group1=\"Dry\", group2=\"Rainy\")"
   ]
  },
  {
   "cell_type": "code",
   "execution_count": 17,
   "id": "6714849f",
   "metadata": {},
   "outputs": [
    {
     "name": "stdout",
     "output_type": "stream",
     "text": [
      "Mann-Whitney U test for: Layer_depth, between Surface and Bottom\n",
      "+--------------------------------+-----------+-----------------------+\n",
      "|            Variable            | Statistic |        P-value        |\n",
      "+--------------------------------+-----------+-----------------------+\n",
      "|            Sal_psu             |  1154.5   |  0.34446722768419014  |\n",
      "|         TA_micromol_kg         |  1258.0   |  0.8014934927731209   |\n",
      "|        DIC_micromol_kg         |  1305.0   |  0.9545550270995352   |\n",
      "| oxygen_utilization_micromol_kg |   861.0   | 0.0035793587980040426 |\n",
      "+--------------------------------+-----------+-----------------------+\n"
     ]
    }
   ],
   "source": [
    "# Evaluate Mann-Whitney U test for Layer depth (Surface and Bottom)\n",
    "evaluate_mannwhitney(CarbonateTL, measured_variables_dict, condition=\"Layer_depth\", group1=\"Surface\", group2=\"Bottom\")"
   ]
  },
  {
   "cell_type": "code",
   "execution_count": 18,
   "id": "fdd540e4",
   "metadata": {},
   "outputs": [
    {
     "name": "stdout",
     "output_type": "stream",
     "text": [
      "Krustal-: Area, between River and Estuarine\n",
      "+--------------------------------+--------------------+------------------------+--------------------------------------------------+\n",
      "|            Variable            |     Statistic      |        P-value         |               Post hoc Dunn's test               |\n",
      "+--------------------------------+--------------------+------------------------+--------------------------------------------------+\n",
      "|            Sal_psu             | 51.839704558234025 | 5.535427709577421e-12  |          River  Estuarine         Coast          |\n",
      "|                                |                    |                        | River      1.000000e+00   0.000012  3.787329e-12 |\n",
      "|                                |                    |                        | Estuarine  1.234044e-05   1.000000  7.356623e-03 |\n",
      "|                                |                    |                        | Coast      3.787329e-12   0.007357  1.000000e+00 |\n",
      "|         TA_micromol_kg         | 30.843190418735666 | 2.0067177789995903e-07 |          River  Estuarine         Coast          |\n",
      "|                                |                    |                        | River      1.000000e+00   0.000421  1.790780e-07 |\n",
      "|                                |                    |                        | Estuarine  4.207130e-04   1.000000  7.227180e-02 |\n",
      "|                                |                    |                        | Coast      1.790780e-07   0.072272  1.000000e+00 |\n",
      "|        DIC_micromol_kg         | 54.670183855010244 | 1.3443749561512867e-12 |          River  Estuarine         Coast          |\n",
      "|                                |                    |                        | River      1.000000e+00   0.000001  1.728623e-12 |\n",
      "|                                |                    |                        | Estuarine  1.362769e-06   1.000000  1.867946e-02 |\n",
      "|                                |                    |                        | Coast      1.728623e-12   0.018679  1.000000e+00 |\n",
      "| oxygen_utilization_micromol_kg | 17.288213730360642 | 0.00017616194126035228 |            River  Estuarine     Coast            |\n",
      "|                                |                    |                        |     River      1.000000   0.005376  0.000209     |\n",
      "|                                |                    |                        |     Estuarine  0.005376   1.000000  0.296543     |\n",
      "|                                |                    |                        |     Coast      0.000209   0.296543  1.000000     |\n",
      "+--------------------------------+--------------------+------------------------+--------------------------------------------------+\n"
     ]
    }
   ],
   "source": [
    "# Evaluate Kruskal-Wallis test for each Area: River, Estuary, and Coastal\n",
    "evaluate_kruskal_dunns(CarbonateTL, measured_variables_dict, condition=\"Area\", group1=\"River\", group2=\"Estuarine\", group3=\"Coast\")"
   ]
  },
  {
   "cell_type": "code",
   "execution_count": 19,
   "id": "3556e568",
   "metadata": {},
   "outputs": [],
   "source": [
    "# calcuated carbonate variables dictionary\n",
    "carbonate_variables_dict= {\"pCO2_atm\": CarbonateTL[\"pCO2_atm\"],\n",
    "                           \"pH\": CarbonateTL[\"pH\"],\n",
    "                           \"saturation_aragonite\": CarbonateTL[\"saturation_aragonite\"],\n",
    "                           \"TA-DIC\" : CarbonateTL[\"TA-DIC\"]\n",
    "                           }"
   ]
  },
  {
   "cell_type": "code",
   "execution_count": 20,
   "id": "f8643b57",
   "metadata": {},
   "outputs": [
    {
     "name": "stdout",
     "output_type": "stream",
     "text": [
      "Normality test results:\n",
      "+----------------------+--------------------+------------------------+-----------+\n",
      "|       Variable       |     Statistic      |        P-value         | Is Normal |\n",
      "+----------------------+--------------------+------------------------+-----------+\n",
      "|       pCO2_atm       | 0.7489856612270924 | 6.500111600563636e-12  |   False   |\n",
      "|          pH          | 0.9826323648680874 |  0.20125161851756107   |   True    |\n",
      "| saturation_aragonite | 0.9353591458909288 | 8.639813998846472e-05  |   False   |\n",
      "|        TA-DIC        | 0.9454935436897395 | 0.00036629144140120306 |   False   |\n",
      "+----------------------+--------------------+------------------------+-----------+\n"
     ]
    }
   ],
   "source": [
    "# Check normality of carbonate variables\n",
    "evaluate_normality(carbonate_variables_dict)"
   ]
  },
  {
   "cell_type": "code",
   "execution_count": 21,
   "id": "cb7a863e",
   "metadata": {},
   "outputs": [
    {
     "name": "stdout",
     "output_type": "stream",
     "text": [
      "Mann-Whitney U test for: Estuary, between Candelaria and Palizada\n",
      "+----------------------+-----------+------------------------+\n",
      "|       Variable       | Statistic |        P-value         |\n",
      "+----------------------+-----------+------------------------+\n",
      "|       pCO2_atm       |   872.0   | 0.0042139874500416565  |\n",
      "|          pH          |  1614.0   |  0.03585506978505112   |\n",
      "| saturation_aragonite |  1834.0   | 0.00035528706968920604 |\n",
      "|        TA-DIC        |  1864.0   | 0.00016182543671919828 |\n",
      "+----------------------+-----------+------------------------+\n"
     ]
    }
   ],
   "source": [
    "# Evaluate Mann-Whitney U test for Transects for carbonate variables\n",
    "evaluate_mannwhitney(CarbonateTL, carbonate_variables_dict, condition=\"Estuary\", group1=\"Candelaria\", group2=\"Palizada\")"
   ]
  },
  {
   "cell_type": "code",
   "execution_count": 22,
   "id": "6271ff05",
   "metadata": {},
   "outputs": [
    {
     "name": "stdout",
     "output_type": "stream",
     "text": [
      "Mann-Whitney U test for: Season, between Dry and Rainy\n",
      "+----------------------+-----------+-----------------------+\n",
      "|       Variable       | Statistic |        P-value        |\n",
      "+----------------------+-----------+-----------------------+\n",
      "|       pCO2_atm       |   899.0   |  0.08734431848667445  |\n",
      "|          pH          |  1487.0   |  0.01280103888797824  |\n",
      "| saturation_aragonite |  1627.0   | 0.0004817888890513226 |\n",
      "|        TA-DIC        |  1605.5   | 0.0008468925085571171 |\n",
      "+----------------------+-----------+-----------------------+\n"
     ]
    }
   ],
   "source": [
    "# Evaluate Mann-Whitney U test for Seasons (Dry and Rainy) for carbonate variables\n",
    "evaluate_mannwhitney(CarbonateTL, carbonate_variables_dict, condition=\"Season\", group1=\"Dry\", group2=\"Rainy\")"
   ]
  },
  {
   "cell_type": "code",
   "execution_count": 23,
   "id": "6e6d6806",
   "metadata": {},
   "outputs": [
    {
     "name": "stdout",
     "output_type": "stream",
     "text": [
      "Mann-Whitney U test for: Layer_depth, between Surface and Bottom\n",
      "+----------------------+-----------+---------------------+\n",
      "|       Variable       | Statistic |       P-value       |\n",
      "+----------------------+-----------+---------------------+\n",
      "|       pCO2_atm       |  1440.0   | 0.33601473098677226 |\n",
      "|          pH          |  1164.0   | 0.37798361955736226 |\n",
      "| saturation_aragonite |  1175.0   | 0.41916533950066615 |\n",
      "|        TA-DIC        |  1133.5   | 0.27742012731982835 |\n",
      "+----------------------+-----------+---------------------+\n"
     ]
    }
   ],
   "source": [
    "# Evaluate Mann-Whitney U test for Layer depth (Surface and Bottom) \n",
    "evaluate_mannwhitney(CarbonateTL, carbonate_variables_dict, condition=\"Layer_depth\", group1=\"Surface\", group2=\"Bottom\")"
   ]
  },
  {
   "cell_type": "code",
   "execution_count": 24,
   "id": "efe9a7cc",
   "metadata": {},
   "outputs": [
    {
     "name": "stdout",
     "output_type": "stream",
     "text": [
      "Krustal-: Area, between River and Estuarine\n",
      "+----------------------+-------------------+------------------------+-----------------------------------------------------+\n",
      "|       Variable       |     Statistic     |        P-value         |                Post hoc Dunn's test                 |\n",
      "+----------------------+-------------------+------------------------+-----------------------------------------------------+\n",
      "|       pCO2_atm       | 39.67951680672269 | 2.4193706239238396e-09 |          River     Estuarine         Coast          |\n",
      "|                      |                   |                        | River      1.000000e+00  2.766623e-07  6.890886e-08 |\n",
      "|                      |                   |                        | Estuarine  2.766623e-07  1.000000e+00  6.600601e-01 |\n",
      "|                      |                   |                        | Coast      6.890886e-08  6.600601e-01  1.000000e+00 |\n",
      "|          pH          | 8.474327935057488 |  0.014448510236932973  |             River  Estuarine     Coast              |\n",
      "|                      |                   |                        |      River      1.000000   0.013039  0.114003       |\n",
      "|                      |                   |                        |      Estuarine  0.013039   1.000000  0.376708       |\n",
      "|                      |                   |                        |      Coast      0.114003   0.376708  1.000000       |\n",
      "| saturation_aragonite | 38.32292057599739 | 4.767421291395268e-09  |          River     Estuarine         Coast          |\n",
      "|                      |                   |                        | River      1.000000e+00  6.872699e-07  8.307793e-08 |\n",
      "|                      |                   |                        | Estuarine  6.872699e-07  1.000000e+00  5.665941e-01 |\n",
      "|                      |                   |                        | Coast      8.307793e-08  5.665941e-01  1.000000e+00 |\n",
      "|        TA-DIC        | 41.46655768077277 | 9.900369597792848e-10  |           River  Estuarine         Coast            |\n",
      "|                      |                   |                        |  River      1.000000e+00   0.000002  4.085841e-09   |\n",
      "|                      |                   |                        |  Estuarine  2.328382e-06   1.000000  1.907492e-01   |\n",
      "|                      |                   |                        |  Coast      4.085841e-09   0.190749  1.000000e+00   |\n",
      "+----------------------+-------------------+------------------------+-----------------------------------------------------+\n"
     ]
    }
   ],
   "source": [
    "# Evaluate Kruskal-Wallis test for each Area: River, Estuary, and Coastal\n",
    "evaluate_kruskal_dunns(CarbonateTL, carbonate_variables_dict, condition=\"Area\", group1=\"River\", group2=\"Estuarine\", group3=\"Coast\")"
   ]
  },
  {
   "cell_type": "markdown",
   "id": "8269636e",
   "metadata": {},
   "source": [
    "__________________"
   ]
  },
  {
   "cell_type": "markdown",
   "id": "cf276a95",
   "metadata": {},
   "source": []
  }
 ],
 "metadata": {
  "kernelspec": {
   "display_name": "co2sys_env",
   "language": "python",
   "name": "python3"
  },
  "language_info": {
   "codemirror_mode": {
    "name": "ipython",
    "version": 3
   },
   "file_extension": ".py",
   "mimetype": "text/x-python",
   "name": "python",
   "nbconvert_exporter": "python",
   "pygments_lexer": "ipython3",
   "version": "3.11.5"
  }
 },
 "nbformat": 4,
 "nbformat_minor": 5
}
