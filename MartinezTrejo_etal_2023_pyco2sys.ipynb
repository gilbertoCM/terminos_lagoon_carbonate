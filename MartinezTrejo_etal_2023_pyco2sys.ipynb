{
 "cells": [
  {
   "cell_type": "markdown",
   "id": "3721944a-067c-4d0b-84d1-95a87f484855",
   "metadata": {
    "tags": []
   },
   "source": [
    "# Variability of the inorganic carbon system in a large coastal lagoon of the southern Gulf of Mexico\n",
    "\n",
    "### José Andrés Martínez-Trejo<sup>1</sup>, Jose-Gilberto Cardoso-Mohedano<sup>2,*</sup>, Joan Albert Sanchez-Cabeza<sup>3</sup>, José Martin Hernández Ayón<sup>4</sup>, Ana Carolina Ruiz-Fernández<sup> 3 </sup>, Mario Alejandro Gómez-Ponce <sup>2</sup> , Linda Barranco-Servín<sup>5</sup>, Daniel Pech<sup>5</sup>\n",
    "\n",
    "<sup> 1 </sup> Posgrado en Ciencias del Mar y Limnología, Universidad Nacional Autónoma de México; Avenida Ciudad Universitaria 3000, C.P. 04510, Coyoacán, Ciudad de México, México\n",
    "\n",
    "<sup> 2 </sup>  Estación el Carmen, Instituto de Ciencias del Mar y Limnología, Universidad Nacional Autónoma de México, Carretera Carmen-Puerto Real km. 9.5, 24157 Ciudad del Carmen, Campeche, México\n",
    "\n",
    "<sup> 3 </sup>  Unidad Académica Mazatlán, Instituto de Ciencias del Mar y Limnología, Universidad Nacional Autónoma de México, Calzada Joel Montes Camarena s/n, Colonia Playa Sur, Mazatlán 82000, Sinaloa, México\n",
    "\n",
    "<sup> 4 </sup>  Instituto de Investigaciones Oceanológicas, Universidad Autónoma de Baja California, Km. 103 CarreteraTijuana-Ensenada, Ensenada, Baja California, México\n",
    "\n",
    "<sup> 5 </sup> Laboratorio de Biodiversidad Marina y Cambio Climático (BIOMARCCA), El Colegio de la Frontera Sur, Lerma, Campeche, México. \n",
    "\n",
    " \\*Corresponding Author: gcardoso@cmarl.unam.mx Phone:+52-938-38-31847\n",
    "\n",
    "[doi:XXXXX](https://falta)\n"
   ]
  },
  {
   "cell_type": "markdown",
   "id": "cef91be8-cc73-479a-94dd-4497024472d2",
   "metadata": {},
   "source": [
    "- Read csv raw data file"
   ]
  },
  {
   "cell_type": "code",
   "execution_count": 2,
   "id": "b5d11b6e-ba2b-45ab-be31-fb1e8eec9918",
   "metadata": {},
   "outputs": [],
   "source": [
    "import pandas as pd \n",
    "url = \"https://metadata.icmyl.unam.mx/bitstream/handle/20.500.12201/11367/MartinezTrejo_etal_2023_TA_DIC_RawData.csv?sequence=1&isAllowed=y\"\n",
    "myCO2data = pd.read_csv(url, sep=\",\", header=0,  decimal=\".\",\n",
    "                        encoding = 'utf-8')"
   ]
  },
  {
   "cell_type": "markdown",
   "id": "94856b7e-2989-4a3f-b68e-5f73ea4b926f",
   "metadata": {},
   "source": [
    "- PyCO2SYS configuration from estuarine waters (Humphreys et al. 2022)"
   ]
  },
  {
   "cell_type": "code",
   "execution_count": 3,
   "id": "81dbabc6-7cdd-4b2b-ad77-2b95d92dbf2f",
   "metadata": {},
   "outputs": [],
   "source": [
    "import PyCO2SYS as pyco2\n",
    "myCO2sysParamsDICTA_data = {\n",
    "    \"par1\": myCO2data[\"DIC_micromol_kg\"], # DIC measured in the lab in μmol/kg-sw\n",
    "    \"par2\": myCO2data[\"TA_micromol_kg\"],         # TA measured in the lab, Total scale\n",
    "    \"par1_type\": 2,         # tell PyCO2SYS: \"par2 is a DIC value\" \n",
    "    \"par2_type\": 1,         # tell PyCO2SYS: \"par1 is a TA value\"\n",
    "    # Fields conditions\n",
    "    \"salinity\": myCO2data[\"Sal_psu\"],           #  in-situ salinity in PSU\n",
    "    \"temperature_out\": myCO2data[\"Temp_C\"],    # in-situ temperature (output conditions) in °C\n",
    "    \"pressure_out\": 0.0,\n",
    "    # Settings\n",
    "    \"opt_pH_scale\" : 1,     # Total pH (Wolf-Gladrow et al. 2007)\n",
    "    \"opt_k_carbonic\": 14,    # 0 < T < 50 °C, 1 < S < 50, Seawater scale, real seawater (Millero F.J. 2010)    \n",
    "    \"temperature\": 25      # lab temperature (input conditions) in °C\n",
    "}"
   ]
  },
  {
   "cell_type": "markdown",
   "id": "f2c32de0-22da-4e9d-b3a7-1aefbaf95f69",
   "metadata": {},
   "source": [
    "- Run PyCO2SYS"
   ]
  },
  {
   "cell_type": "code",
   "execution_count": 4,
   "id": "90e98747-6a36-4eb9-9b97-7697385d58e3",
   "metadata": {},
   "outputs": [],
   "source": [
    "CO2results= pyco2.sys(**myCO2sysParamsDICTA_data)"
   ]
  },
  {
   "cell_type": "markdown",
   "id": "a84c15c6",
   "metadata": {},
   "source": [
    "# References\n",
    "- Humphreys, M. P., Lewis, E. R., Sharp, J. D., & Pierrot, D. (2022). PyCO2SYS v1.8: Marine carbonate system calculations in Python. Geoscientific Model Development, 15(1), 15–43. https://doi.org/10.5194/gmd-15-15-2022\n",
    "- Millero, F. J. (2010). Carbonate constants for estuarine waters. Marine and Freshwater Research, 61(2), 139. https://doi.org/10.1071/MF09254\n",
    "- Wolf-Gladrow, D. A., Zeebe, R. E., Klaas, C., Körtzinger, A., & Dickson, A. G. (2007). Total alkalinity: The explicit conservative expression and its application to biogeochemical processes. Marine Chemistry, 106(1–2), 287–300. https://doi.org/10.1016/j.marchem.2007.01.006"
   ]
  },
  {
   "cell_type": "markdown",
   "id": "b6d8a0bc",
   "metadata": {},
   "source": []
  }
 ],
 "metadata": {
  "kernelspec": {
   "display_name": "Python 3 (ipykernel)",
   "language": "python",
   "name": "python3"
  },
  "language_info": {
   "codemirror_mode": {
    "name": "ipython",
    "version": 3
   },
   "file_extension": ".py",
   "mimetype": "text/x-python",
   "name": "python",
   "nbconvert_exporter": "python",
   "pygments_lexer": "ipython3",
   "version": "3.8.16"
  }
 },
 "nbformat": 4,
 "nbformat_minor": 5
}
