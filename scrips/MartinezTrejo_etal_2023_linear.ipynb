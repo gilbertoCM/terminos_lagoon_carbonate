{
 "cells": [
  {
   "attachments": {},
   "cell_type": "markdown",
   "id": "3721944a-067c-4d0b-84d1-95a87f484855",
   "metadata": {
    "tags": []
   },
   "source": [
    "# Variability of dissolved inorganic carbon in the largest karst estuarine lagoon system of the southern Gulf of Mexico\n",
    "\n",
    "### José Andrés Martínez-Trejo<sup>1</sup>, Jose-Gilberto Cardoso-Mohedano<sup>2,*</sup>, Joan Albert Sanchez-Cabeza<sup>3</sup>, José Martin Hernández Ayón<sup>4</sup>, Ana Carolina Ruiz-Fernández<sup> 3 </sup>, Mario Alejandro Gómez-Ponce <sup>2</sup> , Linda Barranco-Servín<sup>5</sup>, Daniel Pech<sup>5</sup>\n",
    "\n",
    "<sup> 1 </sup> Posgrado en Ciencias del Mar y Limnología, Universidad Nacional Autónoma de México; Avenida Ciudad Universitaria 3000, C.P. 04510, Coyoacán, Ciudad de México, México\n",
    "\n",
    "<sup> 2 </sup>  Estación el Carmen, Instituto de Ciencias del Mar y Limnología, Universidad Nacional Autónoma de México, Carretera Carmen-Puerto Real km. 9.5, 24157 Ciudad del Carmen, Campeche, México\n",
    "\n",
    "<sup> 3 </sup>  Unidad Académica Mazatlán, Instituto de Ciencias del Mar y Limnología, Universidad Nacional Autónoma de México, Calzada Joel Montes Camarena s/n, Colonia Playa Sur, Mazatlán 82000, Sinaloa, México\n",
    "\n",
    "<sup> 4 </sup>  Instituto de Investigaciones Oceanológicas, Universidad Autónoma de Baja California, Km. 103 CarreteraTijuana-Ensenada, Ensenada, Baja California, México\n",
    "\n",
    "<sup> 5 </sup> Laboratorio de Biodiversidad Marina y Cambio Climático (BIOMARCCA), El Colegio de la Frontera Sur, Lerma, Campeche, México. \n",
    "\n",
    " \\*Corresponding Author: gcardoso@cmarl.unam.mx Phone:+52-938-38-31847\n",
    "\n",
    "[doi:XXXXX](https://XXXX)\n"
   ]
  },
  {
   "cell_type": "markdown",
   "id": "f10e7f35",
   "metadata": {},
   "source": [
    "- Raw data are aviable in: \n",
    "\n",
    "https://metadata.icmyl.unam.mx/bitstream/handle/20.500.12201/11367/MartinezTrejo_etal_2023_TA_DIC_RawData.csv?sequence=1&isAllowed=y\n",
    "\n"
   ]
  },
  {
   "attachments": {},
   "cell_type": "markdown",
   "id": "cef91be8-cc73-479a-94dd-4497024472d2",
   "metadata": {},
   "source": [
    "- Read csv  data file"
   ]
  },
  {
   "cell_type": "code",
   "execution_count": null,
   "id": "b5d11b6e-ba2b-45ab-be31-fb1e8eec9918",
   "metadata": {},
   "outputs": [],
   "source": [
    "# Import packages\n",
    "import pandas as pd\n",
    "import PyCO2SYS as pyco2\n",
    "import statsmodels.api as sm\n",
    "import seaborn as sns\n",
    "import matplotlib.pyplot as plt\n",
    "from scipy import stats\n",
    "from scipy.stats import shapiro"
   ]
  },
  {
   "cell_type": "code",
   "execution_count": null,
   "id": "afb97fad",
   "metadata": {},
   "outputs": [],
   "source": [
    "# Function to read in csv file\n",
    "def read_csv(file):\n",
    "    \"\"\"\n",
    "    Read in csv file and return pandas dataframe\n",
    "    \"\"\"\n",
    "    df = pd.read_csv(file, sep=\",\", header=0,  decimal=\".\", encoding='utf-8')\n",
    "    return df"
   ]
  },
  {
   "cell_type": "code",
   "execution_count": null,
   "id": "4ef7f9b0",
   "metadata": {},
   "outputs": [],
   "source": [
    "# define file path \n",
    "terminos_ta_dic_data_path = \"../data/MartinezTrejo_etal_2023_TA_DIC_RawData.csv\"\n",
    "\n",
    "# Read in data\n",
    "terminos_ta_dic_data = read_csv(terminos_ta_dic_data_path)\n",
    "\n",
    "# Copy data to new dataframe\n",
    "terminos_ta_dic = terminos_ta_dic_data.copy()"
   ]
  },
  {
   "attachments": {},
   "cell_type": "markdown",
   "id": "c4b970d5",
   "metadata": {},
   "source": [
    "### Calculate DIC / TA ratio and TA- DIC"
   ]
  },
  {
   "cell_type": "code",
   "execution_count": null,
   "id": "066fba79",
   "metadata": {},
   "outputs": [],
   "source": [
    "# Calculate the ratio of DIC to TA\n",
    "terminos_ta_dic[\"DIC/TA\"]= terminos_ta_dic[\"DIC_micromol_kg\"]/terminos_ta_dic[\"TA_micromol_kg\"]\n",
    "\n",
    "# Calculate TA - DIC\n",
    "\n",
    "terminos_ta_dic[\"TA-DIC\"]= terminos_ta_dic[\"DIC_micromol_kg\"] - terminos_ta_dic[\"TA_micromol_kg\"]\n"
   ]
  },
  {
   "attachments": {},
   "cell_type": "markdown",
   "id": "94856b7e-2989-4a3f-b68e-5f73ea4b926f",
   "metadata": {},
   "source": [
    "## PyCO2SYS configuration from estuarine waters (Humphreys et al. 2022)"
   ]
  },
  {
   "cell_type": "code",
   "execution_count": null,
   "id": "81dbabc6-7cdd-4b2b-ad77-2b95d92dbf2f",
   "metadata": {},
   "outputs": [],
   "source": [
    "# Copy data to new dataframe\n",
    "terminos_inorganic_carbon = terminos_ta_dic.copy()\n",
    "\n",
    "# Create dictionary with data configuration for PyCO2SYS. \n",
    "# For more information on the parameters see Humphreys et al (2022)\n",
    "my_co2sys_params_dic_ta_config = {\n",
    "    # DIC measured in the lab in μmol/kg-sw\n",
    "    \"par1\": terminos_inorganic_carbon[\"DIC_micromol_kg\"],\n",
    "    # TA measured in the lab, Total scale\n",
    "    \"par2\": terminos_inorganic_carbon[\"TA_micromol_kg\"],\n",
    "    \"par1_type\": 2,         # tell PyCO2SYS: \"par2 is a DIC value\"\n",
    "    \"par2_type\": 1,         # tell PyCO2SYS: \"par1 is a TA value\"\n",
    "    # Fields conditions\n",
    "    \"salinity\": terminos_inorganic_carbon[\"Sal_psu\"],  # in-situ salinity in PSU\n",
    "    # in-situ temperature (output conditions) in °C\n",
    "    \"temperature_out\": terminos_inorganic_carbon[\"Temp_C\"],\n",
    "    \"pressure_out\": 0.0,\n",
    "    # Settings\n",
    "    \"opt_pH_scale\": 1,     # Total pH (Wolf-Gladrow et al. 2007)\n",
    "    \"opt_k_carbonic\": 15,     # 0 < T < 50 °C, 1 < S < 50, Seawater scale, real seawater (Millero F.J. 2010)\n",
    "    \"temperature\": 25      # lab temperature (input conditions) in °C\n",
    "}"
   ]
  },
  {
   "attachments": {},
   "cell_type": "markdown",
   "id": "f2c32de0-22da-4e9d-b3a7-1aefbaf95f69",
   "metadata": {},
   "source": [
    "### Run PyCO2SYS"
   ]
  },
  {
   "cell_type": "code",
   "execution_count": null,
   "id": "90e98747-6a36-4eb9-9b97-7697385d58e3",
   "metadata": {},
   "outputs": [],
   "source": [
    "# Run PyCO2SYS to calculate the carbonate system parameters\n",
    "terminos_inorganic_carbon_results= pyco2.sys(**my_co2sys_params_dic_ta_config)"
   ]
  },
  {
   "attachments": {},
   "cell_type": "markdown",
   "id": "7fd41e56",
   "metadata": {},
   "source": [
    "### Read the interes variables from PYCO2sys "
   ]
  },
  {
   "cell_type": "code",
   "execution_count": null,
   "id": "5d2720a9",
   "metadata": {},
   "outputs": [],
   "source": [
    "# Select variables of interest from the PyCO2SYS output and create a DataFrame\n",
    "pyco2_interest_variables = pd.DataFrame({\n",
    "       \"pH\": terminos_inorganic_carbon_results[\"pH\"],\n",
    "       \"saturation_aragonite\": terminos_inorganic_carbon_results[\"saturation_aragonite\"],\n",
    "       \"pCO2_atm\": terminos_inorganic_carbon_results[\"pCO2_out\"],\n",
    "       \"k_aragonite\": terminos_inorganic_carbon_results[\"k_aragonite\"],\n",
    "       \"total_calcium\": terminos_inorganic_carbon_results[\"total_calcium\"],\n",
    "       \"carbonate\": terminos_inorganic_carbon_results[\"carbonate\"],\n",
    "       \"CO3\": terminos_inorganic_carbon_results[\"CO3\"]\n",
    "       \n",
    "})\n",
    "\n",
    "# Concatenate PyCO2SYS output with the original dataframe\n",
    "CarbonateTL = pd.concat([terminos_ta_dic, pyco2_interest_variables], axis=1)"
   ]
  },
  {
   "cell_type": "markdown",
   "id": "b72d2de7",
   "metadata": {},
   "source": [
    "- Terminos Lagoon TA and DIC in TL mean and standard deviation "
   ]
  },
  {
   "cell_type": "code",
   "execution_count": null,
   "id": "4f8906b5",
   "metadata": {},
   "outputs": [],
   "source": [
    "CarbonateTL[['TA_micromol_kg', 'DIC_micromol_kg']].agg(['mean', 'std'])"
   ]
  },
  {
   "cell_type": "markdown",
   "id": "883b41f6",
   "metadata": {},
   "source": [
    "- Variables by season, mean and standard deviation "
   ]
  },
  {
   "cell_type": "code",
   "execution_count": null,
   "id": "761cb767",
   "metadata": {},
   "outputs": [],
   "source": [
    "grouped_data_season = CarbonateTL.groupby(\"Season\")[['TA_micromol_kg','DIC_micromol_kg', 'pCO2_atm', 'pH', 'saturation_aragonite']].agg(['min', 'mean', 'std'])\n",
    "print(grouped_data_season)"
   ]
  },
  {
   "attachments": {},
   "cell_type": "markdown",
   "id": "b16f0dce",
   "metadata": {},
   "source": [
    "- Select Candelaria and Palizada results"
   ]
  },
  {
   "cell_type": "code",
   "execution_count": null,
   "id": "1cd24ec8",
   "metadata": {},
   "outputs": [],
   "source": [
    "CandelariaResult = CarbonateTL.loc[CarbonateTL[\"Estuary\"] == \"Candelaria\"]\n",
    "                     \n",
    "PalizadaResult = CarbonateTL.loc[CarbonateTL[\"Estuary\"] == \"Palizada\"]"
   ]
  },
  {
   "attachments": {},
   "cell_type": "markdown",
   "id": "6fa5c6cf",
   "metadata": {},
   "source": [
    "- TA vs DIC Perform  least squares (OLS) regression"
   ]
  },
  {
   "cell_type": "code",
   "execution_count": null,
   "id": "76296433",
   "metadata": {},
   "outputs": [],
   "source": [
    "#define predictor and response variables\n",
    "x = CarbonateTL['TA_micromol_kg']\n",
    "y = CarbonateTL['DIC_micromol_kg']\n",
    "\n",
    "#add constant to predictor variables\n",
    "x = sm.add_constant(x)\n",
    "\n",
    "#fit linear regression model\n",
    "model = sm.OLS(y, x).fit()\n",
    "\n",
    "\n",
    "\n",
    "#view model summary\n",
    "print(model.summary())\n",
    "\n",
    "# export model summary to text file\n",
    "with open('../output_files/TA_DIC_liner_model_summary.txt', 'w') as file:\n",
    "    file.write(model.summary().as_text())"
   ]
  },
  {
   "cell_type": "markdown",
   "id": "2501ccc8",
   "metadata": {},
   "source": [
    "- TA vas DIC linear Equation"
   ]
  },
  {
   "cell_type": "code",
   "execution_count": null,
   "id": "47cb936d",
   "metadata": {},
   "outputs": [],
   "source": [
    "\n",
    "linear_params = model.params\n",
    "\n",
    "standard_errors = model.bse\n",
    "\n",
    "Lintercep = f\" {linear_params.iloc[0]:.0f}( \\pm {standard_errors.iloc[0]:.0f})\"\n",
    "\n",
    "LSlope = f\"{linear_params.iloc[1]:.2f}( \\pm {standard_errors.iloc[1]:.2f})\"\n",
    "\n",
    "linearEquation= f\"$y = {LSlope} \\cdot x{Lintercep}$\"\n",
    "\n",
    "\n",
    "print(\"linear Equation\" + linearEquation)\n",
    "\n",
    "Rsquared = f\"$r^{2}$ = {model.rsquared:.3f}\""
   ]
  },
  {
   "attachments": {},
   "cell_type": "markdown",
   "id": "6a7df42d",
   "metadata": {},
   "source": [
    "- TA vs DIC , scatter plot  with linear regretion"
   ]
  },
  {
   "cell_type": "code",
   "execution_count": null,
   "id": "49a0a12c",
   "metadata": {},
   "outputs": [],
   "source": [
    "\n",
    "x = CarbonateTL['TA_micromol_kg']\n",
    "y = CarbonateTL['DIC_micromol_kg']\n",
    "\n",
    "# Plot \n",
    "g = sns.scatterplot(\n",
    "    data=CarbonateTL,\n",
    "    x=\"TA_micromol_kg\", y=\"DIC_micromol_kg\", hue=\"Season\",\n",
    "    palette=dict(Dry=\"#21918c\", Rainy=\"#440154\")\n",
    ")\n",
    "\n",
    "# Add labels and title\n",
    "plt.xlabel('TA ($\\mu mol  \\; kg^{-1}$)', fontsize = 12)\n",
    "\n",
    "plt.ylabel('DIC ($\\mu mol  \\; kg^{-1}$)', fontsize = 12)\n",
    "\n",
    "# Calculate the linear regression line\n",
    "slope, intercept, r_value, p_value, std_err = stats.linregress(x, y)\n",
    "\n",
    "# Plot linear regression \n",
    "\n",
    "plt.plot(x, intercept + slope*x, '#fde725')\n",
    "\n",
    "# set the figure size\n",
    "plt.gcf().set_size_inches(6, 4)\n",
    "\n",
    "\n",
    "\n",
    "plt.text(3300, 2500, linearEquation)\n",
    "\n",
    "plt.text(3300, 2300, Rsquared)\n",
    "\n",
    "\n",
    "# save the plot as a PDF file paper format  \n",
    "plt.savefig('../output_files/DIC_TA.pdf', dpi=300, bbox_inches='tight')\n",
    "\n",
    "plt.show()\n"
   ]
  },
  {
   "cell_type": "markdown",
   "id": "29c2e5fa",
   "metadata": {},
   "source": [
    "-Salinity  vs DIC , scatter plot  with linear regretion"
   ]
  },
  {
   "cell_type": "code",
   "execution_count": null,
   "id": "5166c142",
   "metadata": {},
   "outputs": [],
   "source": [
    "import matplotlib.pyplot as plt\n",
    "from scipy import stats\n",
    "\n",
    "x = CarbonateTL['Sal_psu']\n",
    "y = CarbonateTL['DIC_micromol_kg']\n",
    "import seaborn as sns\n",
    "\n",
    "\n",
    "\n",
    "# Plot sepal width as a function of sepal_length across days\n",
    "g = sns.scatterplot(\n",
    "    data=CarbonateTL,\n",
    "    x=\"Sal_psu\", y=\"DIC_micromol_kg\", hue=\"Season\",\n",
    "    palette=dict(Dry=\"#21918c\", Rainy=\"#440154\")\n",
    ")\n",
    "\n",
    "\n",
    "#plt.scatter(x, y, label='original data', color = \"#3b528b\")\n",
    "\n",
    "# Add labels and title\n",
    "plt.xlabel('Salinity', fontsize = 12)\n",
    "\n",
    "plt.ylabel('DIC ($\\mu mol  \\; kg^{-1}$)', fontsize = 12)\n",
    "\n",
    "# Calculate the linear regression line\n",
    "slope, intercept, r_value, p_value, std_err = stats.linregress(x, y)\n",
    "\n",
    "# Plot linear regression \n",
    "\n",
    "plt.plot(x, intercept + slope*x, '#fde725')\n",
    "\n",
    "# set the figure size\n",
    "plt.gcf().set_size_inches(6, 4)\n",
    "\n",
    "# save the plot as a PDF file paper format \n",
    "plt.savefig('../output_files/SAL_DIC.tiff', dpi=300, bbox_inches='tight')\n",
    "\n",
    "plt.show()\n",
    "\n",
    "# Print linear regression results \n",
    "\n",
    "print(\"r-squared:\", r_value**2)\n",
    "print(\"Intercept:\", intercept)\n",
    "print(\"Slope:\", slope)"
   ]
  },
  {
   "cell_type": "markdown",
   "id": "641a15c8",
   "metadata": {},
   "source": [
    "-Salinity vs DIC ,  Perform  least squares (OLS) regression"
   ]
  },
  {
   "cell_type": "code",
   "execution_count": null,
   "id": "db8a9aee",
   "metadata": {},
   "outputs": [],
   "source": [
    "import statsmodels.api as sm\n",
    "\n",
    "#define predictor and response variables\n",
    "x = CarbonateTL['Sal_psu']\n",
    "y = CarbonateTL['DIC_micromol_kg']\n",
    "\n",
    "#add constant to predictor variables\n",
    "x = sm.add_constant(x)\n",
    "\n",
    "#fit linear regression model\n",
    "model = sm.OLS(y, x).fit()\n",
    "\n",
    "#view model summary\n",
    "print(model.summary())\n",
    "\n",
    "# export model summary to text file\n",
    "with open('../output_files/Sal_DIC_liner_model_summary.txt', 'w') as file:\n",
    "    file.write(model.summary().as_text())"
   ]
  },
  {
   "cell_type": "markdown",
   "id": "992d0e56",
   "metadata": {},
   "source": [
    "-Salinity  vs TA , scatter plot  with linear regretion"
   ]
  },
  {
   "cell_type": "code",
   "execution_count": null,
   "id": "c63e9417",
   "metadata": {},
   "outputs": [],
   "source": [
    "import matplotlib.pyplot as plt\n",
    "from scipy import stats\n",
    "\n",
    "x = CarbonateTL['Sal_psu']\n",
    "y = CarbonateTL['TA_micromol_kg']\n",
    "import seaborn as sns\n",
    "\n",
    "\n",
    "\n",
    "# Plot sepal width as a function of sepal_length across days\n",
    "g = sns.scatterplot(\n",
    "    data=CarbonateTL,\n",
    "    x=\"Sal_psu\", y=\"TA_micromol_kg\", hue=\"Season\",\n",
    "    palette=dict(Dry=\"#21918c\", Rainy=\"#440154\")\n",
    ")\n",
    "\n",
    "\n",
    "#plt.scatter(x, y, label='original data', color = \"#3b528b\")\n",
    "\n",
    "# Add labels and title\n",
    "plt.xlabel('Salinity', fontsize = 12)\n",
    "\n",
    "plt.ylabel('TA ($\\mu mol  \\; kg^{-1}$)', fontsize = 12)\n",
    "\n",
    "# Calculate the linear regression line\n",
    "slope, intercept, r_value, p_value, std_err = stats.linregress(x, y)\n",
    "\n",
    "# Plot linear regression \n",
    "\n",
    "plt.plot(x, intercept + slope*x, '#fde725')\n",
    "\n",
    "# set the figure size\n",
    "plt.gcf().set_size_inches(6, 4)\n",
    "\n",
    "# save the plot as a PDF file paper format \n",
    "plt.savefig('../output_files/SAL_TA.tiff', dpi=300, bbox_inches='tight')\n",
    "\n",
    "plt.show()\n",
    "\n",
    "# Print linear regression results \n",
    "\n",
    "print(\"r-squared:\", r_value**2)\n",
    "print(\"Intercept:\", intercept)\n",
    "print(\"Slope:\", slope)"
   ]
  },
  {
   "cell_type": "markdown",
   "id": "8fa35fe1",
   "metadata": {},
   "source": [
    "-Salinity vs TA ,  Perform  least squares (OLS) regression"
   ]
  },
  {
   "cell_type": "code",
   "execution_count": null,
   "id": "4846b35a",
   "metadata": {},
   "outputs": [],
   "source": [
    "import statsmodels.api as sm\n",
    "\n",
    "#define predictor and response variables\n",
    "x = CarbonateTL['Sal_psu']\n",
    "y = CarbonateTL['TA_micromol_kg']\n",
    "\n",
    "#add constant to predictor variables\n",
    "x = sm.add_constant(x)\n",
    "\n",
    "#fit linear regression model\n",
    "model = sm.OLS(y, x).fit()\n",
    "\n",
    "#view model summary\n",
    "print(model.summary())\n",
    "\n",
    "# export model summary to text file\n",
    "with open('../output_files/Sal_TA_liner_model_summary.txt', 'w') as file:\n",
    "    file.write(model.summary().as_text())"
   ]
  },
  {
   "attachments": {},
   "cell_type": "markdown",
   "id": "d20b9866",
   "metadata": {},
   "source": [
    "Plot DIC/TA ratio,  Salinity and pH by Estuary "
   ]
  },
  {
   "cell_type": "code",
   "execution_count": null,
   "id": "5ed4220e",
   "metadata": {},
   "outputs": [],
   "source": [
    "# Create the scatter plot \n",
    "\n",
    "# getting the original colormap using cm.get_cmap() function\n",
    "orig_map = plt.colormaps.get_cmap('viridis')\n",
    "\n",
    "# reversing the original colormap using reversed() function\n",
    "reversed_map = orig_map.reversed()\n",
    "\n",
    "scatter = plt.scatter(\n",
    "    x=CandelariaResult[\"Sal_psu\"], y=CandelariaResult[\"DIC_micromol_kg\"]/CandelariaResult[\"TA_micromol_kg\"], c=CandelariaResult[\"pH\"], cmap=reversed_map,\n",
    "    marker='.', s= 300, label='Candelaria', alpha=0.9)\n",
    "\n",
    "\n",
    "scatter = plt.scatter(\n",
    "    x=PalizadaResult[\"Sal_psu\"], y=PalizadaResult[\"DIC_micromol_kg\"] / PalizadaResult[\"TA_micromol_kg\"], c=PalizadaResult[\"pH\"], cmap=reversed_map,\n",
    "    marker='+', s= 300, label='Palizada', alpha=0.9)\n",
    "\n",
    "\n",
    "# Add a color bar\n",
    "plt.colorbar(scatter)\n",
    "\n",
    "\n",
    "# Add labels and title\n",
    "plt.xlabel('Salinity', fontsize = 12)\n",
    "plt.ylabel(\"$DIC \\, / \\, TA $\" , fontsize = 12)\n",
    "plt.legend(loc='upper right')\n",
    "\n",
    "# set the figure size\n",
    "plt.gcf().set_size_inches(6, 4)\n",
    "\n",
    "# save the plot as a PDF file\n",
    "plt.savefig('../output_files/sal_DICTA_pH.pdf', dpi=300, bbox_inches='tight')\n",
    "\n",
    "# display the plot\n",
    "plt.show()\n",
    "\n"
   ]
  },
  {
   "cell_type": "code",
   "execution_count": null,
   "id": "e9673b95",
   "metadata": {},
   "outputs": [],
   "source": [
    "# Create the scatter plot \n",
    "\n",
    "# getting the original colormap using cm.get_cmap() function\n",
    "orig_map = plt.colormaps.get_cmap('viridis')\n",
    "\n",
    "# reversing the original colormap using reversed() function\n",
    "reversed_map = orig_map.reversed()\n",
    "\n",
    "scatter = plt.scatter(\n",
    "    x=CandelariaResult[\"TA-DIC\"], y=CandelariaResult[\"pH\"], c=CandelariaResult[\"Sal_psu\"], cmap=reversed_map,\n",
    "    marker='.', s= 300, label='Candelaria', alpha=0.9)\n",
    "\n",
    "\n",
    "scatter = plt.scatter(\n",
    "    x=PalizadaResult[\"TA-DIC\"], y=PalizadaResult[\"pH\"], c=PalizadaResult[\"Sal_psu\"], cmap=reversed_map,\n",
    "    marker='+', s= 300, label='Palizada', alpha=0.9)\n",
    "\n",
    "\n",
    "# Add a color bar\n",
    "plt.colorbar(scatter)\n",
    "\n",
    "\n",
    "# Add labels and title\n",
    "plt.xlabel('[TA-DIC]', fontsize = 12)\n",
    "plt.ylabel(\"pH\" , fontsize = 12)\n",
    "plt.legend(loc='upper right')\n",
    "\n",
    "# set the figure size\n",
    "plt.gcf().set_size_inches(6, 4)\n",
    "\n",
    "# save the plot as a PDF file\n",
    "plt.savefig('../output_files/sal_DICTA_pH.pdf', dpi=300, bbox_inches='tight')\n",
    "\n",
    "# display the plot\n",
    "plt.show()\n"
   ]
  },
  {
   "cell_type": "code",
   "execution_count": null,
   "id": "b7678f43",
   "metadata": {},
   "outputs": [],
   "source": [
    "import numpy as np\n",
    "import matplotlib.pyplot as plt\n",
    "\n",
    "# Create a grid of DIC and TA values\n",
    "\n",
    "\n",
    "DIC_grid, TA_grid = np.meshgrid(CarbonateTL[\"DIC_micromol_kg\"], CarbonateTL[\"TA_micromol_kg\"])\n",
    "\n",
    "# Calculate the difference between TA and DIC, just as a simple example\n",
    "# This is where the actual model to calculate (TA - DIC) would go\n",
    "# For demonstration, we'll use a simple linear relationship,\n",
    "# which will not exactly replicate the complex processes shown in the actual diagram\n",
    "TA_minus_DIC = TA_grid - DIC_grid\n",
    "\n",
    "# Create contour levels for plotting\n",
    "\n",
    "\n",
    "contour_levels = np.linspace(-1800, 1800, 8)\n",
    "\n",
    "# Set up the plot\n",
    "fig, ax = plt.subplots()\n",
    "\n",
    "# Create the contour plot\n",
    "contour = ax.contourf(DIC_grid, TA_grid, TA_minus_DIC, levels=contour_levels, cmap='viridis')\n",
    "\n",
    "# Add lines and annotations corresponding to processes\n",
    "# These are arbitrary lines for demonstration purposes\n",
    "#ax.annotate('Photosynthesis', xy=(1950, 2300), xytext=(1900, 2350),\n",
    "#            arrowprops=dict(facecolor='black', shrink=0.05))\n",
    "#ax.annotate('Respiration', xy=(2050, 2300), xytext=(2100, 2350),\n",
    "#            arrowprops=dict(facecolor='black', shrink=0.05))\n",
    "#ax.annotate('CaCO3 formation', xy=(1950, 2200), xytext=(1900, 2150),\n",
    "#            arrowprops=dict(facecolor='black', shrink=0.05))\n",
    "#ax.annotate('CaCO3 dissolution', xy=(2050, 2200), xytext=(2100, 2150),\n",
    "#            arrowprops=dict(facecolor='black', shrink=0.05))\n",
    "\n",
    "# Add labels to axes\n",
    "ax.set_xlabel('DIC (µmol kg^-1)')\n",
    "ax.set_ylabel('TA (µmol kg^-1)')\n",
    "\n",
    "# Add a colorbar\n",
    "cbar = plt.colorbar(contour)\n",
    "cbar.set_label('(TA - DIC) (µmol kg^-1)')\n",
    "\n",
    "# Show the plot\n",
    "plt.show()\n"
   ]
  },
  {
   "attachments": {},
   "cell_type": "markdown",
   "id": "2949e7cc",
   "metadata": {},
   "source": [
    "# References\n",
    "- Humphreys, M. P., Lewis, E. R., Sharp, J. D., & Pierrot, D. (2022). PyCO2SYS v1.8: Marine carbonate system calculations in Python. Geoscientific Model Development, 15(1), 15–43. https://doi.org/10.5194/gmd-15-15-2022\n",
    "- Millero, F. J. (2010). Carbonate constants for estuarine waters. Marine and Freshwater Research, 61(2), 139. https://doi.org/10.1071/MF09254\n",
    "- Wolf-Gladrow, D. A., Zeebe, R. E., Klaas, C., Körtzinger, A., & Dickson, A. G. (2007). Total alkalinity: The explicit conservative expression and its application to biogeochemical processes. Marine Chemistry, 106(1–2), 287–300. https://doi.org/10.1016/j.marchem.2007.01.006"
   ]
  },
  {
   "cell_type": "markdown",
   "id": "40a99cbd",
   "metadata": {},
   "source": [
    "## Apparent Oxygen Utilization "
   ]
  },
  {
   "cell_type": "code",
   "execution_count": null,
   "id": "8a9552f6",
   "metadata": {},
   "outputs": [],
   "source": [
    "def convert_oxygen_concentration(oxygen_in_mg_per_L, salinity, temperature, pressure):\n",
    "    \"\"\"\n",
    "    Convert oxygen concentration from mg/L to micromol/kg in seawater.\n",
    "\n",
    "    Parameters:\n",
    "    oxygen_in_mg_per_L (float): Oxygen concentration in mg/L\n",
    "    salinity (float): Absolute Salinity in g/kg\n",
    "    temperature (float): Conservative Temperature in degrees Celsius\n",
    "    pressure (float): Sea pressure in dbar\n",
    "\n",
    "    Returns:\n",
    "    float: Oxygen concentration in micromol/kg\n",
    "    \"\"\"\n",
    "    import gsw\n",
    "\n",
    "    # Molecular weight of O2\n",
    "    molecular_weight_O2 = 31.9988  # g/mol\n",
    "\n",
    "    # Convert mg/L to mol/L\n",
    "    oxygen_in_mol_per_L = oxygen_in_mg_per_L / (1000 * molecular_weight_O2)\n",
    "\n",
    "    # Convert mol/L to micromol/L\n",
    "    oxygen_in_micromol_per_L = oxygen_in_mol_per_L * 1e6\n",
    "\n",
    "    # Calculate density of seawater in kg/L\n",
    "    density_seawater = gsw.rho(salinity, temperature, pressure) / 1000  # kg/L\n",
    "\n",
    "    # Convert micromol/L to micromol/kg\n",
    "    oxygen_in_micromol_per_kg = oxygen_in_micromol_per_L / density_seawater\n",
    "\n",
    "    return oxygen_in_micromol_per_kg"
   ]
  },
  {
   "cell_type": "code",
   "execution_count": null,
   "id": "5472b046",
   "metadata": {},
   "outputs": [],
   "source": [
    "CarbonateTL[\"DO_micromol_kg\"] = convert_oxygen_concentration(CarbonateTL[\"DO_mg_L\"], CarbonateTL[\"Sal_psu\"], CarbonateTL[\"Temp_C\"], 0.0)"
   ]
  },
  {
   "cell_type": "code",
   "execution_count": null,
   "id": "b98bcba8",
   "metadata": {},
   "outputs": [],
   "source": [
    "def calculate_aou(salinity, temperature, pressure, oxygen, latitude, longitude):\n",
    "    \"\"\"\n",
    "    Calculate Apparent Oxygen Utilization (AOU).\n",
    "\n",
    "    Parameters:\n",
    "    salinity (float): Absolute Salinity in g/kg; \n",
    "    Practical Salinity Unit (PSU) is a unit based on the properties of seawater conductivity. \n",
    "    It's a dimensionless unit, but it's roughly equivalent to or grams per kilogram (g/kg)\n",
    "    temperature (float): Conservative Temperature in degrees Celsius\n",
    "    pressure (float): Sea pressure in dbar\n",
    "    oxygen (float): Dissolved oxygen concentration in micromol/kg\n",
    "\n",
    "    Returns:\n",
    "    float: AOU in micromol/kg\n",
    "    Reference:\n",
    "\n",
    "    TEOS-10 Manual\n",
    "    GSW-Python Documentation\n",
    "    \"\"\"\n",
    "    import gsw\n",
    "\n",
    "    # Calculate saturation concentration of oxygen in micromol/kg\n",
    "    oxygen_sat = gsw.O2sol(salinity, temperature, pressure, latitude, longitude)\n",
    "\n",
    "    # Calculate AOU\n",
    "    aou = oxygen_sat - oxygen\n",
    "\n",
    "    return aou\n"
   ]
  },
  {
   "cell_type": "code",
   "execution_count": null,
   "id": "e9f9b0c4",
   "metadata": {},
   "outputs": [],
   "source": [
    "CarbonateTL[\"oxygen_utilization_micromol_kg\"] =calculate_aou(CarbonateTL[\"Sal_psu\"], CarbonateTL[\"Temp_C\"],  0.0, CarbonateTL[\"DO_micromol_kg\"], CarbonateTL[\"latitude\"] , CarbonateTL[\"latitude\"] )\n",
    "\n"
   ]
  },
  {
   "cell_type": "code",
   "execution_count": null,
   "id": "4a07a1a0",
   "metadata": {},
   "outputs": [],
   "source": []
  },
  {
   "cell_type": "code",
   "execution_count": null,
   "id": "d5a8328e",
   "metadata": {},
   "outputs": [],
   "source": []
  },
  {
   "cell_type": "code",
   "execution_count": null,
   "id": "a7658ee4",
   "metadata": {},
   "outputs": [],
   "source": [
    "plt.plot(CarbonateTL[\"oxygen_utilization_micromol_kg\"], CarbonateTL[\"TA_micromol_kg\"]-CarbonateTL[\"DIC_micromol_kg\"], 'o', color='blue')"
   ]
  },
  {
   "cell_type": "code",
   "execution_count": null,
   "id": "dd8629c1",
   "metadata": {},
   "outputs": [],
   "source": [
    "plt.plot(CarbonateTL[\"TA_micromol_kg\"]- CarbonateTL[\"DIC_micromol_kg\"], CarbonateTL[\"pH\"]  , 'o', color='blue')\n",
    "\n",
    "# x=\"TA_micromol_kg\", y=\"DIC_micromol_kg\", hue=\"Season\","
   ]
  },
  {
   "cell_type": "code",
   "execution_count": null,
   "id": "c166ad5c",
   "metadata": {},
   "outputs": [],
   "source": [
    "sns.set_theme()\n",
    "\n",
    "\n",
    "g = sns.lmplot(data=CarbonateTL, x=\"TA-DIC\", y=\"pH\", hue=\"Estuary\", palette=dict(Dry=\"#21918c\", Rainy=\"#440154\"))"
   ]
  },
  {
   "cell_type": "code",
   "execution_count": null,
   "id": "e986ff1c",
   "metadata": {},
   "outputs": [],
   "source": [
    "CarbonateTL[\"pCO2_atm\"].describe()"
   ]
  },
  {
   "cell_type": "code",
   "execution_count": null,
   "id": "4fd3f10b",
   "metadata": {},
   "outputs": [],
   "source": []
  }
 ],
 "metadata": {
  "kernelspec": {
   "display_name": "co2sys_env",
   "language": "python",
   "name": "python3"
  },
  "language_info": {
   "codemirror_mode": {
    "name": "ipython",
    "version": 3
   },
   "file_extension": ".py",
   "mimetype": "text/x-python",
   "name": "python",
   "nbconvert_exporter": "python",
   "pygments_lexer": "ipython3",
   "version": "3.11.5"
  }
 },
 "nbformat": 4,
 "nbformat_minor": 5
}
