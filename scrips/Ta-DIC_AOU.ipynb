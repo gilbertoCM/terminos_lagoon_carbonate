{
 "cells": [
  {
   "cell_type": "markdown",
   "id": "f10e7f35",
   "metadata": {},
   "source": [
    "- Raw data are aviable in: \n",
    "\n",
    "https://metadata.icmyl.unam.mx/bitstream/handle/20.500.12201/11367/MartinezTrejo_etal_2023_TA_DIC_RawData.csv?sequence=1&isAllowed=y\n",
    "\n"
   ]
  },
  {
   "attachments": {},
   "cell_type": "markdown",
   "id": "cef91be8-cc73-479a-94dd-4497024472d2",
   "metadata": {},
   "source": [
    "- Read csv  data file"
   ]
  },
  {
   "cell_type": "code",
   "execution_count": 1,
   "id": "b5d11b6e-ba2b-45ab-be31-fb1e8eec9918",
   "metadata": {},
   "outputs": [],
   "source": [
    "# Import packages\n",
    "import pandas as pd\n",
    "import PyCO2SYS as pyco2\n",
    "import statsmodels.api as sm\n",
    "import seaborn as sns\n",
    "import matplotlib.pyplot as plt"
   ]
  },
  {
   "cell_type": "code",
   "execution_count": 2,
   "id": "afb97fad",
   "metadata": {},
   "outputs": [],
   "source": [
    "# Function to read in csv file\n",
    "def read_csv(file):\n",
    "    \"\"\"\n",
    "    Read in csv file and return pandas dataframe\n",
    "    \"\"\"\n",
    "    df = pd.read_csv(file, sep=\",\", header=0,  decimal=\".\", encoding='utf-8')\n",
    "    return df"
   ]
  },
  {
   "cell_type": "code",
   "execution_count": 3,
   "id": "4ef7f9b0",
   "metadata": {},
   "outputs": [],
   "source": [
    "# define file path \n",
    "terminos_ta_dic_data_path = \"../data/MartinezTrejo_etal_2023_TA_DIC_RawData.csv\"\n",
    "\n",
    "# Read in data\n",
    "terminos_ta_dic_raw = read_csv(terminos_ta_dic_data_path)\n",
    "\n",
    "# Copy raw data to new dataframe\n",
    "terminos_ta_dic = terminos_ta_dic_raw.copy()\n",
    "\n",
    "# Delete the raw DataFrame\n",
    "del terminos_ta_dic_raw"
   ]
  },
  {
   "attachments": {},
   "cell_type": "markdown",
   "id": "c4b970d5",
   "metadata": {},
   "source": [
    "### Calculate  [TA - DIC] "
   ]
  },
  {
   "cell_type": "code",
   "execution_count": 4,
   "id": "c7e8ff0f",
   "metadata": {},
   "outputs": [],
   "source": [
    "# Calculate TA - DIC (TA-DIC)  \n",
    "terminos_ta_dic[\"TA-DIC\"] = terminos_ta_dic[\"TA_micromol_kg\"] - terminos_ta_dic[\"DIC_micromol_kg\"]\n"
   ]
  },
  {
   "cell_type": "markdown",
   "id": "a8631687",
   "metadata": {},
   "source": [
    "### Calculate the apparent oxygen utilization (AOU) as the difference between the measured oxygen concentration and the oxygen concentration in equilibrium with the atmosphere at the same temperature and salinity."
   ]
  },
  {
   "cell_type": "code",
   "execution_count": 5,
   "id": "066fba79",
   "metadata": {},
   "outputs": [],
   "source": [
    "from convert_oxygen_concentration_AOU import convert_oxygen_concentration\n",
    "from convert_oxygen_concentration_AOU import calculate_aou\n",
    "\n",
    "\n",
    "# Convert DO from mg/L to micromol/kg\n",
    "terminos_ta_dic[\"DO_micromol_kg\"] = convert_oxygen_concentration(terminos_ta_dic[\"DO_mg_L\"], \n",
    "                                                                terminos_ta_dic[\"Sal_psu\"], terminos_ta_dic[\"Temp_C\"], pressure=0) \n",
    "# Calculate Apparent Oxygen Utilization (AOU)\n",
    "terminos_ta_dic[\"oxygen_utilization_micromol_kg\"] = calculate_aou(terminos_ta_dic[\"Sal_psu\"], terminos_ta_dic[\"Temp_C\"],  \n",
    "                                                                  0.0, terminos_ta_dic[\"DO_micromol_kg\"], terminos_ta_dic[\"latitude\"], \n",
    "                                                                  terminos_ta_dic[\"latitude\"] )\n"
   ]
  },
  {
   "attachments": {},
   "cell_type": "markdown",
   "id": "94856b7e-2989-4a3f-b68e-5f73ea4b926f",
   "metadata": {},
   "source": [
    "## PyCO2SYS configuration from estuarine waters (Humphreys et al. 2022)"
   ]
  },
  {
   "cell_type": "code",
   "execution_count": 6,
   "id": "81dbabc6-7cdd-4b2b-ad77-2b95d92dbf2f",
   "metadata": {},
   "outputs": [],
   "source": [
    "# Copy data to new dataframe\n",
    "terminos_inorganic_carbon = terminos_ta_dic.copy()\n",
    "\n",
    "# Create dictionary with data configuration for PyCO2SYS. \n",
    "# For more information on the parameters see Humphreys et al (2022)\n",
    "my_co2sys_params_dic_ta_config = {\n",
    "    # DIC measured in the lab in μmol/kg-sw\n",
    "    \"par1\": terminos_inorganic_carbon[\"DIC_micromol_kg\"],\n",
    "    # TA measured in the lab, Total scale\n",
    "    \"par2\": terminos_inorganic_carbon[\"TA_micromol_kg\"],\n",
    "    \"par1_type\": 2,         # tell PyCO2SYS: \"par2 is a DIC value\"\n",
    "    \"par2_type\": 1,         # tell PyCO2SYS: \"par1 is a TA value\"\n",
    "    # Fields conditions\n",
    "    \"salinity\": terminos_inorganic_carbon[\"Sal_psu\"],  # in-situ salinity in PSU\n",
    "    # in-situ temperature (output conditions) in °C\n",
    "    \"temperature_out\": terminos_inorganic_carbon[\"Temp_C\"],\n",
    "    \"pressure_out\": 0.0,\n",
    "    # Settings\n",
    "    \"opt_pH_scale\": 1,     # Total pH (Wolf-Gladrow et al. 2007)\n",
    "    \"opt_k_carbonic\": 15,     # 0 < T < 50 °C, 1 < S < 50, Seawater scale, real seawater (Millero F.J. 2010)\n",
    "    \"temperature\": 25      # lab temperature (input conditions) in °C\n",
    "}"
   ]
  },
  {
   "attachments": {},
   "cell_type": "markdown",
   "id": "f2c32de0-22da-4e9d-b3a7-1aefbaf95f69",
   "metadata": {},
   "source": [
    "### Run PyCO2SYS"
   ]
  },
  {
   "cell_type": "code",
   "execution_count": 7,
   "id": "90e98747-6a36-4eb9-9b97-7697385d58e3",
   "metadata": {},
   "outputs": [],
   "source": [
    "# Run PyCO2SYS to calculate the carbonate system parameters\n",
    "terminos_inorganic_carbon_results= pyco2.sys(**my_co2sys_params_dic_ta_config)"
   ]
  },
  {
   "attachments": {},
   "cell_type": "markdown",
   "id": "7fd41e56",
   "metadata": {},
   "source": [
    "### Read the interes variables from PYCO2sys "
   ]
  },
  {
   "cell_type": "code",
   "execution_count": 8,
   "id": "5d2720a9",
   "metadata": {},
   "outputs": [],
   "source": [
    "# Select variables of interest from the PyCO2SYS output and create a DataFrame\n",
    "pyco2_interest_variables = pd.DataFrame({\n",
    "       \"pH\": terminos_inorganic_carbon_results[\"pH\"],\n",
    "       \"saturation_aragonite\": terminos_inorganic_carbon_results[\"saturation_aragonite\"],\n",
    "       \"pCO2_atm\": terminos_inorganic_carbon_results[\"pCO2_out\"],\n",
    "       \"k_aragonite\": terminos_inorganic_carbon_results[\"k_aragonite\"],\n",
    "       \"total_calcium\": terminos_inorganic_carbon_results[\"total_calcium\"],\n",
    "       \"carbonate\": terminos_inorganic_carbon_results[\"carbonate\"]\n",
    "      \n",
    "})\n",
    "\n",
    "# Concatenate PyCO2SYS output with the original dataframe\n",
    "CarbonateTL = pd.concat([terminos_ta_dic, pyco2_interest_variables], axis=1)"
   ]
  },
  {
   "attachments": {},
   "cell_type": "markdown",
   "id": "b16f0dce",
   "metadata": {},
   "source": [
    "- Select Candelaria and Palizada results"
   ]
  },
  {
   "cell_type": "code",
   "execution_count": 9,
   "id": "1cd24ec8",
   "metadata": {},
   "outputs": [],
   "source": [
    "CandelariaResult = CarbonateTL.loc[CarbonateTL[\"Estuary\"] == \"Candelaria\"]\n",
    "                     \n",
    "PalizadaResult = CarbonateTL.loc[CarbonateTL[\"Estuary\"] == \"Palizada\"]"
   ]
  },
  {
   "cell_type": "markdown",
   "id": "e743bcea",
   "metadata": {},
   "source": [
    "_____________"
   ]
  },
  {
   "cell_type": "markdown",
   "id": "1d69182f",
   "metadata": {},
   "source": [
    "### [TA - DIC] analysis in the TL lagoon system of the southern Gulf of Mexico"
   ]
  },
  {
   "cell_type": "markdown",
   "id": "a59eb192",
   "metadata": {},
   "source": [
    "- Salininty vs [TA-DIC] , and pH as color, for Candelaria and Palizada estuaries"
   ]
  },
  {
   "cell_type": "code",
   "execution_count": 10,
   "id": "e9673b95",
   "metadata": {},
   "outputs": [
    {
     "data": {
      "image/png": "[encoded data removed]",
      "text/plain": [
       "<Figure size 600x400 with 2 Axes>"
      ]
     },
     "metadata": {},
     "output_type": "display_data"
    }
   ],
   "source": [
    "# Plot [TA-DIC] as a function of salinity across estuaries, colobar represents pH\n",
    "# getting the original colormap using cm.get_cmap() function\n",
    "orig_map = plt.colormaps.get_cmap('viridis')\n",
    "\n",
    "# reversing the original colormap using reversed() function\n",
    "reversed_map = orig_map.reversed()\n",
    "\n",
    "scatter = plt.scatter(\n",
    "    x=CandelariaResult[\"Sal_psu\"], y=CandelariaResult[\"TA-DIC\"], c=CandelariaResult[\"pH\"], cmap=reversed_map,\n",
    "    marker='.', s= 300, label='Candelaria', alpha=0.9)\n",
    "\n",
    "scatter = plt.scatter(\n",
    "    x=PalizadaResult[\"Sal_psu\"], y=PalizadaResult[\"TA-DIC\"], c=PalizadaResult[\"pH\"], cmap=reversed_map,\n",
    "    marker='+', s= 300, label='Palizada', alpha=0.9)\n",
    "\n",
    "# Add a constant line at zero on the y-axis\n",
    "plt.axhline(0, color='k', linestyle='--', alpha=0.5)\n",
    "\n",
    "# Add a color bar\n",
    "plt.colorbar(scatter)\n",
    "\n",
    "# Add labels and title\n",
    "plt.xlabel('Salinity', fontsize = 12)\n",
    "plt.ylabel(\"[TA-DIC] ($\\mu mol  \\; kg^{-1}$)\" , fontsize = 12)\n",
    "plt.legend(loc='lower right')\n",
    "\n",
    "# set the figure size\n",
    "plt.gcf().set_size_inches(6, 4)\n",
    "\n",
    "# save the plot as a PDF file\n",
    "plt.savefig('../output_files/sal_TA-DIC_pH.pdf', dpi=300, bbox_inches='tight')\n",
    "\n",
    "# display the plot\n",
    "plt.show()"
   ]
  },
  {
   "cell_type": "markdown",
   "id": "5bb877d9",
   "metadata": {},
   "source": [
    "________________\n"
   ]
  },
  {
   "cell_type": "markdown",
   "id": "81ee82bd",
   "metadata": {},
   "source": [
    "- [TA-DIC] vs pH, and salinity ranges of river (0-1), estuarine(1-15), and marine waters (1-35) "
   ]
  },
  {
   "cell_type": "code",
   "execution_count": null,
   "id": "abc40496",
   "metadata": {},
   "outputs": [],
   "source": [
    "\n",
    "# Plot [TA-DIC] vs pH regression line for each salinity range\n",
    "\n",
    "import matplotlib.cm as cm\n",
    "from sklearn.linear_model import LinearRegression\n",
    "\n",
    "\n",
    "# Define salinity levels\n",
    "salinity_levels = [(0, 1), (1, 15), (15, 39)]\n",
    "\n",
    "# Generate colors from the Viridis colormap\n",
    "colors = cm.viridis([0.2, 0.5, 0.8])\n",
    "\n",
    "# Function to fit model and return predictions\n",
    "def fit_and_predict(X, y):\n",
    "    model = LinearRegression()\n",
    "    model.fit(X, y)\n",
    "    return model.predict(X)\n",
    "\n",
    "# Function to plot data and regression line\n",
    "def plot_data_and_regression(X, y, pH_pred, color, label):\n",
    "    plt.scatter(X, y, color=color, label=label)\n",
    "    plt.plot(X, pH_pred, color=color)\n",
    "\n",
    "# Function to process each salinity range\n",
    "def process_salinity_range(sal_range):\n",
    "    # Subset the data for the current salinity range\n",
    "    subset = CarbonateTL.query(f\"`Sal_psu` >= {sal_range[0]} & `Sal_psu` < {sal_range[1]}\")\n",
    "    \n",
    "    # Reshape data for model input\n",
    "    X = subset[\"TA-DIC\"].values.reshape(-1, 1)\n",
    "    y = subset[\"pH\"].values\n",
    "    \n",
    "    # Fit the model and get predictions\n",
    "    pH_pred = fit_and_predict(X, y)\n",
    "    \n",
    "    # Plot the data and the regression line\n",
    "    plot_data_and_regression(X, y, pH_pred, colors[salinity_levels.index(sal_range)], f'{sal_range[0]}-{sal_range[1]}')\n",
    "\n",
    "plt.plot([], [], ' ', label=\" Salinity ranges\")\n",
    "\n",
    "# Apply the function to each salinity range\n",
    "list(map(process_salinity_range, salinity_levels))\n",
    "\n",
    "\n",
    "# Add labels and legend\n",
    "plt.xlabel('[TA-DIC] ($\\mu mol  \\; kg^{-1}$)')\n",
    "\n",
    "plt.ylabel('pH')\n",
    "plt.legend()\n",
    "# save the plot as a PDF file\n",
    "\n",
    "plt.savefig('../output_files/07_Fig_07_TA-DIC_vs_pH_salinity_ranges.pdf', dpi=300, bbox_inches='tight')\n",
    "\n",
    "# Show the plot\n",
    "plt.show()"
   ]
  },
  {
   "cell_type": "markdown",
   "id": "85002929",
   "metadata": {},
   "source": [
    "- Calculate  Slope, Intercept and $R^2$ score:  [TA-DIC] vs pH, and salinity ranges of river (0-1), estuary(1-15), and marine waters (1-35) "
   ]
  },
  {
   "cell_type": "code",
   "execution_count": null,
   "id": "8ab6fbaf",
   "metadata": {},
   "outputs": [],
   "source": [
    "import statsmodels.api as sm\n",
    "from tabulate import tabulate\n",
    "\n",
    "salinity_levels = [(0, 1), (1, 15), (15, 39)]\n",
    "\n",
    "def fit_and_predict(X, y):\n",
    "    X = sm.add_constant(X)  # Adding a constant (intercept term) to the model\n",
    "    model = sm.OLS(y, X)\n",
    "    results = model.fit()\n",
    "    return results.params[1], results.params[0], results.rsquared, results.pvalues[1]\n",
    "\n",
    "def print_results(sal_range, results):\n",
    "    table = [[\"Salinity range\", f\"{sal_range[0]}-{sal_range[1]}\"],\n",
    "             [\"Slope\", results[0]],\n",
    "             [\"Intercept\", results[1]],\n",
    "             [\"R^2 score\", results[2]],\n",
    "             [\"P-value\", results[3]]]\n",
    "    print(tabulate(table))\n",
    "\n",
    "for sal_range in salinity_levels:\n",
    "    subset = CarbonateTL[(CarbonateTL[\"Sal_psu\"] >= sal_range[0]) & (CarbonateTL[\"Sal_psu\"] < sal_range[1])]\n",
    "    X = subset[\"TA-DIC\"].values.reshape(-1, 1)\n",
    "    y = subset[\"pH\"].values\n",
    "    results = fit_and_predict(X, y)\n",
    "    print_results(sal_range, results)"
   ]
  },
  {
   "attachments": {},
   "cell_type": "markdown",
   "id": "2949e7cc",
   "metadata": {},
   "source": [
    "# References\n",
    "- Humphreys, M. P., Lewis, E. R., Sharp, J. D., & Pierrot, D. (2022). PyCO2SYS v1.8: Marine carbonate system calculations in Python. Geoscientific Model Development, 15(1), 15–43. https://doi.org/10.5194/gmd-15-15-2022\n",
    "- Millero, F. J. (2010). Carbonate constants for estuarine waters. Marine and Freshwater Research, 61(2), 139. https://doi.org/10.1071/MF09254\n",
    "- Wolf-Gladrow, D. A., Zeebe, R. E., Klaas, C., Körtzinger, A., & Dickson, A. G. (2007). Total alkalinity: The explicit conservative expression and its application to biogeochemical processes. Marine Chemistry, 106(1–2), 287–300. https://doi.org/10.1016/j.marchem.2007.01.006"
   ]
  },
  {
   "cell_type": "markdown",
   "id": "b00bcac8",
   "metadata": {},
   "source": [
    "_____________________________"
   ]
  }
 ],
 "metadata": {
  "kernelspec": {
   "display_name": "co2sys_env",
   "language": "python",
   "name": "python3"
  },
  "language_info": {
   "codemirror_mode": {
    "name": "ipython",
    "version": 3
   },
   "file_extension": ".py",
   "mimetype": "text/x-python",
   "name": "python",
   "nbconvert_exporter": "python",
   "pygments_lexer": "ipython3",
   "version": "3.11.5"
  }
 },
 "nbformat": 4,
 "nbformat_minor": 5
}
