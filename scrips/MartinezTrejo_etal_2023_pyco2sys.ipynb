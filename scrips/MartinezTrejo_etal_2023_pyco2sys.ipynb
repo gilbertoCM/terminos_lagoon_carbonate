{
 "cells": [
  {
   "attachments": {},
   "cell_type": "markdown",
   "id": "3721944a-067c-4d0b-84d1-95a87f484855",
   "metadata": {
    "tags": []
   },
   "source": [
    "# Variability of dissolved inorganic carbon in the largest karst estuarine lagoon system of the southern Gulf of Mexico\n",
    "\n",
    "### José Andrés Martínez-Trejo<sup>1</sup>, Jose-Gilberto Cardoso-Mohedano<sup>2,*</sup>, Joan Albert Sanchez-Cabeza<sup>3</sup>, José Martin Hernández Ayón<sup>4</sup>, Ana Carolina Ruiz-Fernández<sup> 3 </sup>, Mario Alejandro Gómez-Ponce <sup>2</sup> , Linda Barranco-Servín<sup>5</sup>, Daniel Pech<sup>5</sup>\n",
    "\n",
    "<sup> 1 </sup> Posgrado en Ciencias del Mar y Limnología, Universidad Nacional Autónoma de México; Avenida Ciudad Universitaria 3000, C.P. 04510, Coyoacán, Ciudad de México, México\n",
    "\n",
    "<sup> 2 </sup>  Estación el Carmen, Instituto de Ciencias del Mar y Limnología, Universidad Nacional Autónoma de México, Carretera Carmen-Puerto Real km. 9.5, 24157 Ciudad del Carmen, Campeche, México\n",
    "\n",
    "<sup> 3 </sup>  Unidad Académica Mazatlán, Instituto de Ciencias del Mar y Limnología, Universidad Nacional Autónoma de México, Calzada Joel Montes Camarena s/n, Colonia Playa Sur, Mazatlán 82000, Sinaloa, México\n",
    "\n",
    "<sup> 4 </sup>  Instituto de Investigaciones Oceanológicas, Universidad Autónoma de Baja California, Km. 103 CarreteraTijuana-Ensenada, Ensenada, Baja California, México\n",
    "\n",
    "<sup> 5 </sup> Laboratorio de Biodiversidad Marina y Cambio Climático (BIOMARCCA), El Colegio de la Frontera Sur, Lerma, Campeche, México. \n",
    "\n",
    " \\*Corresponding Author: gcardoso@cmarl.unam.mx Phone:+52-938-38-31847\n",
    "\n",
    "[doi:XXXXX](https://XXXX)\n"
   ]
  },
  {
   "cell_type": "markdown",
   "id": "f10e7f35",
   "metadata": {},
   "source": [
    "- Raw data are aviable in: \n",
    "\n",
    "https://metadata.icmyl.unam.mx/bitstream/handle/20.500.12201/11367/MartinezTrejo_etal_2023_TA_DIC_RawData.csv?sequence=1&isAllowed=y\n",
    "\n"
   ]
  },
  {
   "attachments": {},
   "cell_type": "markdown",
   "id": "cef91be8-cc73-479a-94dd-4497024472d2",
   "metadata": {},
   "source": [
    "- Read csv  data file"
   ]
  },
  {
   "cell_type": "code",
   "execution_count": 28,
   "id": "b5d11b6e-ba2b-45ab-be31-fb1e8eec9918",
   "metadata": {},
   "outputs": [],
   "source": [
    "# Import packages\n",
    "import pandas as pd\n",
    "import PyCO2SYS as pyco2\n",
    "import statsmodels.api as sm\n",
    "import seaborn as sns\n",
    "import matplotlib.pyplot as plt\n",
    "from scipy import stats\n",
    "from scipy.stats import shapiro\n",
    "from convert_oxygen_concentration_AOU import convert_oxygen_concentration\n",
    "from convert_oxygen_concentration_AOU import calculate_aou"
   ]
  },
  {
   "cell_type": "code",
   "execution_count": 29,
   "id": "afb97fad",
   "metadata": {},
   "outputs": [],
   "source": [
    "# Function to read in csv file\n",
    "def read_csv(file):\n",
    "    \"\"\"\n",
    "    Read in csv file and return pandas dataframe\n",
    "    \"\"\"\n",
    "    df = pd.read_csv(file, sep=\",\", header=0,  decimal=\".\", encoding='utf-8')\n",
    "    return df"
   ]
  },
  {
   "cell_type": "code",
   "execution_count": 30,
   "id": "4ef7f9b0",
   "metadata": {},
   "outputs": [],
   "source": [
    "# define file path \n",
    "terminos_ta_dic_data_path = \"../data/MartinezTrejo_etal_2023_TA_DIC_RawData.csv\"\n",
    "\n",
    "# Read in data\n",
    "terminos_ta_dic_data = read_csv(terminos_ta_dic_data_path)\n",
    "\n",
    "# Copy data to new dataframe\n",
    "terminos_ta_dic = terminos_ta_dic_data.copy()"
   ]
  },
  {
   "attachments": {},
   "cell_type": "markdown",
   "id": "c4b970d5",
   "metadata": {},
   "source": [
    "### Calculate DIC / TA ratio,  TA - DIC, and oxygen utilization rate"
   ]
  },
  {
   "cell_type": "code",
   "execution_count": 32,
   "id": "066fba79",
   "metadata": {},
   "outputs": [],
   "source": [
    "# Calculate the ratio of DIC to TA\n",
    "terminos_ta_dic[\"DIC/TA\"]= terminos_ta_dic[\"DIC_micromol_kg\"]/terminos_ta_dic[\"TA_micromol_kg\"]\n",
    "\n",
    "# Calculate TA - DIC (TA-DIC)  \n",
    "terminos_ta_dic[\"TA-DIC\"] = terminos_ta_dic[\"TA_micromol_kg\"] -  terminos_ta_dic[\"DIC_micromol_kg\"]\n",
    "\n",
    "# Convert DO from mg/L to micromol/kg\n",
    "\n",
    "terminos_ta_dic[\"DO_micromol_kg\"] = convert_oxygen_concentration(terminos_ta_dic[\"DO_mg_L\"], \n",
    "                                                                 terminos_ta_dic[\"Sal_psu\"], terminos_ta_dic[\"Temp_C\"], pressure=0) \n",
    "\n",
    "# Calculate Apparent Oxygen Utilization (AOU)\n",
    "\n",
    "terminos_ta_dic[\"oxygen_utilization_micromol_kg\"] = calculate_aou(terminos_ta_dic[\"Sal_psu\"], terminos_ta_dic[\"Temp_C\"],  \n",
    "                                                                  0.0, terminos_ta_dic[\"DO_micromol_kg\"], terminos_ta_dic[\"latitude\"] , terminos_ta_dic[\"latitude\"] )\n",
    "\n"
   ]
  },
  {
   "attachments": {},
   "cell_type": "markdown",
   "id": "94856b7e-2989-4a3f-b68e-5f73ea4b926f",
   "metadata": {},
   "source": [
    "## PyCO2SYS configuration from estuarine waters (Humphreys et al. 2022)"
   ]
  },
  {
   "cell_type": "code",
   "execution_count": 33,
   "id": "81dbabc6-7cdd-4b2b-ad77-2b95d92dbf2f",
   "metadata": {},
   "outputs": [],
   "source": [
    "# Copy data to new dataframe\n",
    "terminos_inorganic_carbon = terminos_ta_dic.copy()\n",
    "\n",
    "# Create dictionary with data configuration for PyCO2SYS. \n",
    "# For more information on the parameters see Humphreys et al (2022)\n",
    "my_co2sys_params_dic_ta_config = {\n",
    "    # DIC measured in the lab in μmol/kg-sw\n",
    "    \"par1\": terminos_inorganic_carbon[\"DIC_micromol_kg\"],\n",
    "    # TA measured in the lab, Total scale\n",
    "    \"par2\": terminos_inorganic_carbon[\"TA_micromol_kg\"],\n",
    "    \"par1_type\": 2,         # tell PyCO2SYS: \"par2 is a DIC value\"\n",
    "    \"par2_type\": 1,         # tell PyCO2SYS: \"par1 is a TA value\"\n",
    "    # Fields conditions\n",
    "    \"salinity\": terminos_inorganic_carbon[\"Sal_psu\"],  # in-situ salinity in PSU\n",
    "    # in-situ temperature (output conditions) in °C\n",
    "    \"temperature_out\": terminos_inorganic_carbon[\"Temp_C\"],\n",
    "    \"pressure_out\": 0.0,\n",
    "    # Settings\n",
    "    \"opt_pH_scale\": 1,     # Total pH (Wolf-Gladrow et al. 2007)\n",
    "    \"opt_k_carbonic\": 15,     # 0 < T < 50 °C, 1 < S < 50, Seawater scale, real seawater (Millero F.J. 2010)\n",
    "    \"temperature\": 25      # lab temperature (input conditions) in °C\n",
    "}"
   ]
  },
  {
   "attachments": {},
   "cell_type": "markdown",
   "id": "f2c32de0-22da-4e9d-b3a7-1aefbaf95f69",
   "metadata": {},
   "source": [
    "### Run PyCO2SYS"
   ]
  },
  {
   "cell_type": "code",
   "execution_count": 34,
   "id": "90e98747-6a36-4eb9-9b97-7697385d58e3",
   "metadata": {},
   "outputs": [],
   "source": [
    "# Run PyCO2SYS to calculate the carbonate system parameters\n",
    "terminos_inorganic_carbon_results= pyco2.sys(**my_co2sys_params_dic_ta_config)"
   ]
  },
  {
   "attachments": {},
   "cell_type": "markdown",
   "id": "7fd41e56",
   "metadata": {},
   "source": [
    "### Read the interes variables from PYCO2sys "
   ]
  },
  {
   "cell_type": "code",
   "execution_count": 35,
   "id": "5d2720a9",
   "metadata": {},
   "outputs": [],
   "source": [
    "# Select variables of interest from the PyCO2SYS output and create a DataFrame\n",
    "pyco2_interest_variables = pd.DataFrame({\n",
    "       \"pH\": terminos_inorganic_carbon_results[\"pH\"],\n",
    "       \"saturation_aragonite\": terminos_inorganic_carbon_results[\"saturation_aragonite\"],\n",
    "       \"pCO2_atm\": terminos_inorganic_carbon_results[\"pCO2_out\"],\n",
    "       \"k_aragonite\": terminos_inorganic_carbon_results[\"k_aragonite\"],\n",
    "       \"total_calcium\": terminos_inorganic_carbon_results[\"total_calcium\"],\n",
    "       \"carbonate\": terminos_inorganic_carbon_results[\"carbonate\"],\n",
    "       \"CO3\": terminos_inorganic_carbon_results[\"CO3\"]\n",
    "       \n",
    "})\n",
    "\n",
    "# Concatenate PyCO2SYS output with the original dataframe\n",
    "CarbonateTL = pd.concat([terminos_ta_dic, pyco2_interest_variables], axis=1)"
   ]
  },
  {
   "cell_type": "code",
   "execution_count": 36,
   "id": "eb34cb98",
   "metadata": {},
   "outputs": [],
   "source": [
    "# Calculate the apparent oxygen utilization (AOU) in micromol/kg using the function calculate_aou\n",
    "CarbonateTL[\"oxygen_utilization_micromol_kg\"] = calculate_aou(CarbonateTL[\"Sal_psu\"], CarbonateTL[\"Temp_C\"],  0.0, CarbonateTL[\"DO_micromol_kg\"], CarbonateTL[\"latitude\"] , CarbonateTL[\"latitude\"] )\n"
   ]
  },
  {
   "attachments": {},
   "cell_type": "markdown",
   "id": "b16f0dce",
   "metadata": {},
   "source": [
    "- Select Candelaria and Palizada results"
   ]
  },
  {
   "cell_type": "code",
   "execution_count": null,
   "id": "1cd24ec8",
   "metadata": {},
   "outputs": [],
   "source": [
    "CandelariaResult = CarbonateTL.loc[CarbonateTL[\"Estuary\"] == \"Candelaria\"]\n",
    "                     \n",
    "PalizadaResult = CarbonateTL.loc[CarbonateTL[\"Estuary\"] == \"Palizada\"]"
   ]
  },
  {
   "attachments": {},
   "cell_type": "markdown",
   "id": "6fa5c6cf",
   "metadata": {},
   "source": [
    "- TA vs DIC Perform  least squares (OLS) regression"
   ]
  },
  {
   "cell_type": "code",
   "execution_count": null,
   "id": "76296433",
   "metadata": {},
   "outputs": [],
   "source": [
    "#define predictor and response variables\n",
    "x = CarbonateTL['TA_micromol_kg']\n",
    "y = CarbonateTL['DIC_micromol_kg']\n",
    "\n",
    "#add constant to predictor variables\n",
    "x = sm.add_constant(x)\n",
    "\n",
    "#fit linear regression model\n",
    "model = sm.OLS(y, x).fit()\n",
    "\n",
    "\n",
    "\n",
    "#view model summary\n",
    "print(model.summary())\n",
    "\n",
    "# export model summary to text file\n",
    "with open('../output_files/TA_DIC_liner_model_summary.txt', 'w') as file:\n",
    "    file.write(model.summary().as_text())"
   ]
  },
  {
   "cell_type": "markdown",
   "metadata": {},
   "source": [
    "- TA vas DIC linear Equation"
   ]
  },
  {
   "cell_type": "code",
   "execution_count": null,
   "metadata": {},
   "outputs": [],
   "source": [
    "\n",
    "linear_params = model.params\n",
    "\n",
    "standard_errors = model.bse\n",
    "\n",
    "Lintercep = f\" {linear_params.iloc[0]:.0f}( \\pm {standard_errors.iloc[0]:.0f})\"\n",
    "\n",
    "LSlope = f\"{linear_params.iloc[1]:.2f}( \\pm {standard_errors.iloc[1]:.2f})\"\n",
    "\n",
    "linearEquation= f\"$y = {LSlope} \\cdot x{Lintercep}$\"\n",
    "\n",
    "\n",
    "print(\"linear Equation\" + linearEquation)\n",
    "\n",
    "Rsquared = f\"$r^{2}$ = {model.rsquared:.3f}\""
   ]
  },
  {
   "attachments": {},
   "cell_type": "markdown",
   "id": "6a7df42d",
   "metadata": {},
   "source": [
    "- TA vs DIC , scatter plot  with linear regretion"
   ]
  },
  {
   "cell_type": "code",
   "execution_count": null,
   "id": "49a0a12c",
   "metadata": {},
   "outputs": [],
   "source": [
    "\n",
    "x = CarbonateTL['TA_micromol_kg']\n",
    "y = CarbonateTL['DIC_micromol_kg']\n",
    "\n",
    "# Plot \n",
    "g = sns.scatterplot(\n",
    "    data=CarbonateTL,\n",
    "    x=\"TA_micromol_kg\", y=\"DIC_micromol_kg\", hue=\"Season\",\n",
    "    palette=dict(Dry=\"#21918c\", Rainy=\"#440154\")\n",
    ")\n",
    "\n",
    "# Add labels and title\n",
    "plt.xlabel('TA ($\\mu mol  \\; kg^{-1}$)', fontsize = 12)\n",
    "\n",
    "plt.ylabel('DIC ($\\mu mol  \\; kg^{-1}$)', fontsize = 12)\n",
    "\n",
    "# Calculate the linear regression line\n",
    "slope, intercept, r_value, p_value, std_err = stats.linregress(x, y)\n",
    "\n",
    "# Plot linear regression \n",
    "\n",
    "plt.plot(x, intercept + slope*x, '#fde725')\n",
    "\n",
    "# set the figure size\n",
    "plt.gcf().set_size_inches(6, 4)\n",
    "\n",
    "\n",
    "\n",
    "plt.text(3300, 2500, linearEquation)\n",
    "\n",
    "plt.text(3300, 2300, Rsquared)\n",
    "\n",
    "\n",
    "# save the plot as a PDF file paper format  \n",
    "plt.savefig('../output_files/DIC_TA.pdf', dpi=300, bbox_inches='tight')\n",
    "\n",
    "plt.show()\n"
   ]
  },
  {
   "cell_type": "markdown",
   "id": "29c2e5fa",
   "metadata": {},
   "source": [
    "-Salinity  vs DIC , scatter plot  with linear regretion"
   ]
  },
  {
   "cell_type": "code",
   "execution_count": null,
   "id": "5166c142",
   "metadata": {},
   "outputs": [],
   "source": [
    "import matplotlib.pyplot as plt\n",
    "from scipy import stats\n",
    "\n",
    "x = CarbonateTL['Sal_psu']\n",
    "y = CarbonateTL['DIC_micromol_kg']\n",
    "import seaborn as sns\n",
    "\n",
    "\n",
    "\n",
    "# Plot sepal width as a function of sepal_length across days\n",
    "g = sns.scatterplot(\n",
    "    data=CarbonateTL,\n",
    "    x=\"Sal_psu\", y=\"DIC_micromol_kg\", hue=\"Season\",\n",
    "    palette=dict(Dry=\"#21918c\", Rainy=\"#440154\")\n",
    ")\n",
    "\n",
    "\n",
    "#plt.scatter(x, y, label='original data', color = \"#3b528b\")\n",
    "\n",
    "# Add labels and title\n",
    "plt.xlabel('Salinity', fontsize = 12)\n",
    "\n",
    "plt.ylabel('DIC ($\\mu mol  \\; kg^{-1}$)', fontsize = 12)\n",
    "\n",
    "# Calculate the linear regression line\n",
    "slope, intercept, r_value, p_value, std_err = stats.linregress(x, y)\n",
    "\n",
    "# Plot linear regression \n",
    "\n",
    "plt.plot(x, intercept + slope*x, '#fde725')\n",
    "\n",
    "# set the figure size\n",
    "plt.gcf().set_size_inches(6, 4)\n",
    "\n",
    "# save the plot as a PDF file paper format \n",
    "plt.savefig('../output_files/SAL_DIC.tiff', dpi=300, bbox_inches='tight')\n",
    "\n",
    "plt.show()\n",
    "\n",
    "# Print linear regression results \n",
    "\n",
    "print(\"r-squared:\", r_value**2)\n",
    "print(\"Intercept:\", intercept)\n",
    "print(\"Slope:\", slope)"
   ]
  },
  {
   "cell_type": "markdown",
   "id": "641a15c8",
   "metadata": {},
   "source": [
    "-Salinity vs DIC ,  Perform  least squares (OLS) regression"
   ]
  },
  {
   "cell_type": "code",
   "execution_count": null,
   "id": "db8a9aee",
   "metadata": {},
   "outputs": [],
   "source": [
    "import statsmodels.api as sm\n",
    "\n",
    "#define predictor and response variables\n",
    "x = CarbonateTL['Sal_psu']\n",
    "y = CarbonateTL['DIC_micromol_kg']\n",
    "\n",
    "#add constant to predictor variables\n",
    "x = sm.add_constant(x)\n",
    "\n",
    "#fit linear regression model\n",
    "model = sm.OLS(y, x).fit()\n",
    "\n",
    "#view model summary\n",
    "print(model.summary())\n",
    "\n",
    "# export model summary to text file\n",
    "with open('../output_files/Sal_DIC_liner_model_summary.txt', 'w') as file:\n",
    "    file.write(model.summary().as_text())"
   ]
  },
  {
   "cell_type": "markdown",
   "id": "992d0e56",
   "metadata": {},
   "source": [
    "-Salinity  vs TA , scatter plot  with linear regretion"
   ]
  },
  {
   "cell_type": "code",
   "execution_count": null,
   "id": "c63e9417",
   "metadata": {},
   "outputs": [],
   "source": [
    "import matplotlib.pyplot as plt\n",
    "from scipy import stats\n",
    "\n",
    "x = CarbonateTL['Sal_psu']\n",
    "y = CarbonateTL['TA_micromol_kg']\n",
    "import seaborn as sns\n",
    "\n",
    "\n",
    "\n",
    "# Plot sepal width as a function of sepal_length across days\n",
    "g = sns.scatterplot(\n",
    "    data=CarbonateTL,\n",
    "    x=\"Sal_psu\", y=\"TA_micromol_kg\", hue=\"Season\",\n",
    "    palette=dict(Dry=\"#21918c\", Rainy=\"#440154\")\n",
    ")\n",
    "\n",
    "\n",
    "#plt.scatter(x, y, label='original data', color = \"#3b528b\")\n",
    "\n",
    "# Add labels and title\n",
    "plt.xlabel('Salinity', fontsize = 12)\n",
    "\n",
    "plt.ylabel('TA ($\\mu mol  \\; kg^{-1}$)', fontsize = 12)\n",
    "\n",
    "# Calculate the linear regression line\n",
    "slope, intercept, r_value, p_value, std_err = stats.linregress(x, y)\n",
    "\n",
    "# Plot linear regression \n",
    "\n",
    "plt.plot(x, intercept + slope*x, '#fde725')\n",
    "\n",
    "# set the figure size\n",
    "plt.gcf().set_size_inches(6, 4)\n",
    "\n",
    "# save the plot as a PDF file paper format \n",
    "plt.savefig('../output_files/SAL_TA.tiff', dpi=300, bbox_inches='tight')\n",
    "\n",
    "plt.show()\n",
    "\n",
    "# Print linear regression results \n",
    "\n",
    "print(\"r-squared:\", r_value**2)\n",
    "print(\"Intercept:\", intercept)\n",
    "print(\"Slope:\", slope)"
   ]
  },
  {
   "cell_type": "markdown",
   "id": "8fa35fe1",
   "metadata": {},
   "source": [
    "-Salinity vs TA ,  Perform  least squares (OLS) regression"
   ]
  },
  {
   "cell_type": "code",
   "execution_count": null,
   "id": "4846b35a",
   "metadata": {},
   "outputs": [],
   "source": [
    "import statsmodels.api as sm\n",
    "\n",
    "#define predictor and response variables\n",
    "x = CarbonateTL['Sal_psu']\n",
    "y = CarbonateTL['TA_micromol_kg']\n",
    "\n",
    "#add constant to predictor variables\n",
    "x = sm.add_constant(x)\n",
    "\n",
    "#fit linear regression model\n",
    "model = sm.OLS(y, x).fit()\n",
    "\n",
    "#view model summary\n",
    "print(model.summary())\n",
    "\n",
    "# export model summary to text file\n",
    "with open('../output_files/Sal_TA_liner_model_summary.txt', 'w') as file:\n",
    "    file.write(model.summary().as_text())"
   ]
  },
  {
   "attachments": {},
   "cell_type": "markdown",
   "id": "d20b9866",
   "metadata": {},
   "source": [
    "Plot DIC/TA ratio,  Salinity and pH by Estuary "
   ]
  },
  {
   "cell_type": "code",
   "execution_count": null,
   "id": "5ed4220e",
   "metadata": {},
   "outputs": [],
   "source": [
    "# Create the scatter plot \n",
    "\n",
    "# getting the original colormap using cm.get_cmap() function\n",
    "orig_map = plt.colormaps.get_cmap('viridis')\n",
    "\n",
    "# reversing the original colormap using reversed() function\n",
    "reversed_map = orig_map.reversed()\n",
    "\n",
    "scatter = plt.scatter(\n",
    "    x=CandelariaResult[\"Sal_psu\"], y=CandelariaResult[\"DIC_micromol_kg\"]/CandelariaResult[\"TA_micromol_kg\"], c=CandelariaResult[\"pH\"], cmap=reversed_map,\n",
    "    marker='.', s= 300, label='Candelaria', alpha=0.9)\n",
    "\n",
    "\n",
    "scatter = plt.scatter(\n",
    "    x=PalizadaResult[\"Sal_psu\"], y=PalizadaResult[\"DIC_micromol_kg\"] / PalizadaResult[\"TA_micromol_kg\"], c=PalizadaResult[\"pH\"], cmap=reversed_map,\n",
    "    marker='+', s= 300, label='Palizada', alpha=0.9)\n",
    "\n",
    "\n",
    "# Add a color bar\n",
    "plt.colorbar(scatter)\n",
    "\n",
    "\n",
    "# Add labels and title\n",
    "plt.xlabel('Salinity', fontsize = 12)\n",
    "plt.ylabel(\"$DIC \\, / \\, TA $\" , fontsize = 12)\n",
    "plt.legend(loc='upper right')\n",
    "\n",
    "# set the figure size\n",
    "plt.gcf().set_size_inches(6, 4)\n",
    "\n",
    "# save the plot as a PDF file\n",
    "plt.savefig('../output_files/sal_DICTA_pH.pdf', dpi=300, bbox_inches='tight')\n",
    "\n",
    "# display the plot\n",
    "plt.show()\n",
    "\n"
   ]
  },
  {
   "attachments": {},
   "cell_type": "markdown",
   "id": "2949e7cc",
   "metadata": {},
   "source": [
    "# References\n",
    "- Humphreys, M. P., Lewis, E. R., Sharp, J. D., & Pierrot, D. (2022). PyCO2SYS v1.8: Marine carbonate system calculations in Python. Geoscientific Model Development, 15(1), 15–43. https://doi.org/10.5194/gmd-15-15-2022\n",
    "- Millero, F. J. (2010). Carbonate constants for estuarine waters. Marine and Freshwater Research, 61(2), 139. https://doi.org/10.1071/MF09254\n",
    "- Wolf-Gladrow, D. A., Zeebe, R. E., Klaas, C., Körtzinger, A., & Dickson, A. G. (2007). Total alkalinity: The explicit conservative expression and its application to biogeochemical processes. Marine Chemistry, 106(1–2), 287–300. https://doi.org/10.1016/j.marchem.2007.01.006"
   ]
  },
  {
   "cell_type": "markdown",
   "id": "ebc9ed6d",
   "metadata": {},
   "source": [
    "_________________"
   ]
  },
  {
   "cell_type": "code",
   "execution_count": null,
   "id": "93ea4f33",
   "metadata": {},
   "outputs": [],
   "source": []
  },
  {
   "cell_type": "markdown",
   "id": "40a99cbd",
   "metadata": {},
   "source": [
    "## Cambio de los revisores "
   ]
  },
  {
   "cell_type": "markdown",
   "id": "64feae5f",
   "metadata": {},
   "source": [
    "# TA - DIC\n"
   ]
  },
  {
   "cell_type": "code",
   "execution_count": null,
   "metadata": {},
   "outputs": [],
   "source": [
    "# Create the scatter plot \n",
    "\n",
    "# getting the original colormap using cm.get_cmap() function\n",
    "orig_map = plt.colormaps.get_cmap('viridis')\n",
    "\n",
    "# reversing the original colormap using reversed() function\n",
    "reversed_map = orig_map.reversed()\n",
    "\n",
    "scatter = plt.scatter(\n",
    "    x=CandelariaResult[\"TA-DIC\"], y=CandelariaResult[\"pH\"], c=CandelariaResult[\"Sal_psu\"], cmap=reversed_map,\n",
    "    marker='.', s= 300, label='Candelaria', alpha=0.9)\n",
    "\n",
    "\n",
    "scatter = plt.scatter(\n",
    "    x=PalizadaResult[\"TA-DIC\"], y=PalizadaResult[\"pH\"], c=PalizadaResult[\"Sal_psu\"], cmap=reversed_map,\n",
    "    marker='+', s= 300, label='Palizada', alpha=0.9)\n",
    "\n",
    "\n",
    "# Add a color bar\n",
    "plt.colorbar(scatter)\n",
    "\n",
    "\n",
    "# Add labels and title\n",
    "plt.xlabel('TA-DIC', fontsize = 12)\n",
    "plt.ylabel(\"$pH$\" , fontsize = 12)\n",
    "plt.legend(loc='upper right')\n",
    "\n",
    "# set the figure size\n",
    "plt.gcf().set_size_inches(6, 4)\n",
    "\n",
    "# save the plot as a PDF file\n",
    "plt.savefig('../output_files/sal_TA-DIC_pH.pdf', dpi=300, bbox_inches='tight')\n",
    "\n",
    "# display the plot\n",
    "plt.show()\n",
    "\n"
   ]
  },
  {
   "cell_type": "markdown",
   "metadata": {},
   "source": []
  },
  {
   "cell_type": "code",
   "execution_count": 40,
   "metadata": {},
   "outputs": [
    {
     "data": {
      "image/png": "[encoded data removed]",
      "text/plain": [
       "<Figure size 600x400 with 2 Axes>"
      ]
     },
     "metadata": {},
     "output_type": "display_data"
    }
   ],
   "source": [
    "\n",
    "# getting the original colormap using cm.get_cmap() function\n",
    "orig_map = plt.colormaps.get_cmap('viridis')\n",
    "\n",
    "# reversing the original colormap using reversed() function\n",
    "reversed_map = orig_map.reversed()\n",
    "\n",
    "scatter = plt.scatter(x=CarbonateTL[\"TA-DIC\"], y=CarbonateTL[\"pH\"], c=CarbonateTL[\"Sal_psu\"], cmap=reversed_map,\n",
    "    marker='.', s= 300, label='Salinity (psu)', alpha=0.9)\n",
    "\n",
    "\n",
    "\n",
    "# Add a color bar\n",
    "plt.colorbar(scatter)\n",
    "\n",
    "\n",
    "# Add labels and title\n",
    "plt.xlabel('TA-DIC', fontsize = 12)\n",
    "plt.ylabel(\"$pH$\" , fontsize = 12)\n",
    "plt.legend(loc='upper right')\n",
    "\n",
    "# set the figure size\n",
    "plt.gcf().set_size_inches(6, 4)\n",
    "\n",
    "# save the plot as a PDF file\n",
    "plt.savefig('../output_files/sal_TA-DIC_pH.pdf', dpi=300, bbox_inches='tight')\n",
    "\n",
    "# display the plot\n",
    "plt.show()"
   ]
  },
  {
   "cell_type": "code",
   "execution_count": 52,
   "id": "777cb328",
   "metadata": {},
   "outputs": [
    {
     "data": {
      "text/plain": [
       "{(0, 5): {'slope': 0.0035460331870023594,\n",
       "  'intercept': 8.073118799218355,\n",
       "  'r2': 0.9134874491748189},\n",
       " (5, 20): {'slope': 0.001922905346165314,\n",
       "  'intercept': 7.700516138339131,\n",
       "  'r2': 0.786157217086748},\n",
       " (20, inf): {'slope': 0.0021660417899284734,\n",
       "  'intercept': 7.445757937541358,\n",
       "  'r2': 0.8105639225021973}}"
      ]
     },
     "execution_count": 52,
     "metadata": {},
     "output_type": "execute_result"
    }
   ],
   "source": [
    "from sklearn.linear_model import LinearRegression\n",
    "from sklearn.metrics import r2_score\n",
    "\n",
    "# Define salinity levels\n",
    "salinity_levels = [(0, 5), (5, 20), (20, float('inf'))]\n",
    "results = {}\n",
    "\n",
    "for sal_range in salinity_levels:\n",
    "    # Subset the data for the current salinity range\n",
    "    subset = CarbonateTL[(CarbonateTL[\"Sal_psu\"] >= sal_range[0]) & (CarbonateTL[\"Sal_psu\"] < sal_range[1])]\n",
    "    \n",
    "    # Reshaping data for model input\n",
    "    X = subset[\"TA-DIC\"].values.reshape(-1, 1)\n",
    "    y = subset[\"pH\"].values\n",
    "    \n",
    "    # Create and fit the model\n",
    "    model = LinearRegression()\n",
    "    model.fit(X, y)\n",
    "    \n",
    "    # Predict the pH values for the observed TA-DIC\n",
    "    pH_pred = model.predict(X)\n",
    "    \n",
    "    # Calculate the R^2 score\n",
    "    r2 = r2_score(y, pH_pred)\n",
    "    \n",
    "    results[sal_range] = {\n",
    "        \"slope\": model.coef_[0],\n",
    "        \"intercept\": model.intercept_,\n",
    "        \"r2\": r2,\n",
    "    }\n",
    "    \n",
    "results "
   ]
  },
  {
   "cell_type": "markdown",
   "id": "e54df1a1",
   "metadata": {},
   "source": [
    "__________________________"
   ]
  },
  {
   "cell_type": "code",
   "execution_count": 53,
   "id": "fe8f7991",
   "metadata": {},
   "outputs": [
    {
     "data": {
      "image/png": "[encoded data removed]",
      "text/plain": [
       "<Figure size 640x480 with 1 Axes>"
      ]
     },
     "metadata": {},
     "output_type": "display_data"
    }
   ],
   "source": [
    "import matplotlib.pyplot as plt\n",
    "import matplotlib.cm as cm\n",
    "import seaborn as sns\n",
    "from sklearn.linear_model import LinearRegression\n",
    "\n",
    "\n",
    "# Define salinity levels\n",
    "salinity_levels = [(0, 1), (1, 15), (15, 37)]\n",
    "\n",
    "# Generate colors from the Viridis colormap\n",
    "colors = cm.viridis([0.2, 0.5, 0.8])\n",
    "\n",
    "# Function to fit model and return predictions\n",
    "def fit_and_predict(X, y):\n",
    "    model = LinearRegression()\n",
    "    model.fit(X, y)\n",
    "    return model.predict(X)\n",
    "\n",
    "# Function to plot data and regression line\n",
    "def plot_data_and_regression(X, y, pH_pred, color, label):\n",
    "    plt.scatter(X, y, color=color, label=label)\n",
    "    plt.plot(X, pH_pred, color=color)\n",
    "\n",
    "# Function to process each salinity range\n",
    "def process_salinity_range(sal_range):\n",
    "    # Subset the data for the current salinity range\n",
    "    subset = CarbonateTL.query(f\"`Sal_psu` >= {sal_range[0]} & `Sal_psu` < {sal_range[1]}\")\n",
    "    \n",
    "    # Reshape data for model input\n",
    "    X = subset[\"TA-DIC\"].values.reshape(-1, 1)\n",
    "    y = subset[\"pH\"].values\n",
    "    \n",
    "    # Fit the model and get predictions\n",
    "    pH_pred = fit_and_predict(X, y)\n",
    "    \n",
    "    # Plot the data and the regression line\n",
    "    plot_data_and_regression(X, y, pH_pred, colors[salinity_levels.index(sal_range)], f'Salinity {sal_range[0]}-{sal_range[1]}')\n",
    "\n",
    "# Apply the function to each salinity range\n",
    "list(map(process_salinity_range, salinity_levels))\n",
    "\n",
    "# Add labels and legend\n",
    "plt.xlabel('TA-DIC')\n",
    "plt.ylabel('pH')\n",
    "plt.legend()\n",
    "\n",
    "# Show the plot\n",
    "plt.show()"
   ]
  },
  {
   "cell_type": "code",
   "execution_count": null,
   "id": "a0056a7a",
   "metadata": {},
   "outputs": [],
   "source": []
  }
 ],
 "metadata": {
  "kernelspec": {
   "display_name": "co2sys_env",
   "language": "python",
   "name": "python3"
  },
  "language_info": {
   "codemirror_mode": {
    "name": "ipython",
    "version": 3
   },
   "file_extension": ".py",
   "mimetype": "text/x-python",
   "name": "python",
   "nbconvert_exporter": "python",
   "pygments_lexer": "ipython3",
   "version": "3.11.5"
  }
 },
 "nbformat": 4,
 "nbformat_minor": 5
}
